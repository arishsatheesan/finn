{
 "cells": [
  {
   "cell_type": "code",
   "execution_count": 13,
   "id": "5fc4fbc6-69d3-4dad-a800-83dba289d582",
   "metadata": {},
   "outputs": [
    {
     "name": "stdout",
     "output_type": "stream",
     "text": [
      "Target device: cpu\n"
     ]
    }
   ],
   "source": [
    "# https://xilinx.github.io/brevitas/getting_started.html\n",
    "# works with automated folding.\n",
    "\n",
    "# LiDAR data rate is 10-30 frames per second. Considering 30 frames per second, resolution is 30Hz or 33.33ms.\n",
    "\n",
    "from torch.nn import Module\n",
    "import torch.nn.functional as F\n",
    "\n",
    "import brevitas.nn as qnn\n",
    "from brevitas.quant import Int8Bias as BiasQuant\n",
    "from brevitas.quant import Int32Bias\n",
    "\n",
    "import os\n",
    "import onnx\n",
    "import torch\n",
    "import numpy as np\n",
    "from torch.utils.data import TensorDataset\n",
    "from torch.utils.data import DataLoader, Dataset\n",
    "from brevitas.nn import QuantLinear, QuantReLU\n",
    "import torch.nn as nn\n",
    "from sklearn.metrics import accuracy_score\n",
    "from tqdm import tqdm, trange\n",
    "\n",
    "weight_bit_width = 4\n",
    "act_bit_width = 4\n",
    "\n",
    "torch.manual_seed(0)\n",
    "\n",
    "class QuantWeightActBiasLeNet(Module):\n",
    "    def __init__(self):\n",
    "        super(QuantWeightActBiasLeNet, self).__init__()\n",
    "        self.quant_inp = qnn.QuantIdentity(bit_width=4, return_quant_tensor=True)\n",
    "        self.conv1 = qnn.QuantConv2d(20, 6, 5, bias=False, weight_bit_width=weight_bit_width)\n",
    "        self.relu1 = qnn.QuantReLU(bit_width=act_bit_width, return_quant_tensor=True)\n",
    "        self.conv2 = qnn.QuantConv2d(6, 16, 5, bias=False, weight_bit_width=weight_bit_width)\n",
    "        self.relu2 = qnn.QuantReLU(bit_width=act_bit_width, return_quant_tensor=True)\n",
    "        self.flatten = nn.Flatten()\n",
    "        self.fc1   = qnn.QuantLinear(16*4*4, 120, bias=False, weight_bit_width=weight_bit_width)\n",
    "        # self.fc1   = qnn.QuantLinear(16*5*5, 120, bias=True, weight_bit_width=weight_bit_width, bias_quant=Int32Bias)\n",
    "        self.relu3 = qnn.QuantReLU(bit_width=act_bit_width, return_quant_tensor=True)\n",
    "        self.fc2   = qnn.QuantLinear(120, 84, bias=False, weight_bit_width=weight_bit_width)\n",
    "        self.relu4 = qnn.QuantReLU(bit_width=act_bit_width, return_quant_tensor=True)\n",
    "        self.fc3   = qnn.QuantLinear(84, 64, bias=False, weight_bit_width=weight_bit_width)\n",
    "\n",
    "    def forward(self, x):\n",
    "        out = self.quant_inp(x)\n",
    "        out = self.relu1(self.conv1(out))\n",
    "        out = F.max_pool2d(out, 2)\n",
    "        out = self.relu2(self.conv2(out))\n",
    "        # out = F.max_pool2d(out, 2)\n",
    "        # out = out.reshape(out.shape[0], -1)\n",
    "        out = self.flatten(out)\n",
    "        out = self.relu3(self.fc1(out))\n",
    "        out = self.relu4(self.fc2(out))\n",
    "        out = self.fc3(out)\n",
    "        return out\n",
    "\n",
    "    # def forward(self, x):\n",
    "    #     out = self.quant_inp(x)\n",
    "    #     out = self.relu1(self.conv1(out))\n",
    "    #     print(f\"Shape after conv1: {out.shape}\")\n",
    "    #     out = F.max_pool2d(out, 2)\n",
    "    #     out = self.relu2(self.conv2(out))\n",
    "    #     print(f\"Shape after conv2: {out.shape}\")\n",
    "    #     # out = F.max_pool2d(out, 2)\n",
    "    #     out = self.quant_inp(out)\n",
    "    #     # out = out.reshape(out.shape[0], -1)\n",
    "    #     out = self.flatten(out)\n",
    "    #     print(f\"Shape after flattening: {out.shape}\")\n",
    "    #     out = self.relu3(self.fc1(out))\n",
    "    #     print(f\"Shape after fc1: {out.shape}\")\n",
    "    #     out = self.relu4(self.fc2(out))\n",
    "    #     print(f\"Shape after fc2: {out.shape}\")\n",
    "    #     out = self.fc3(out)\n",
    "    #     return out\n",
    "\n",
    "model = QuantWeightActBiasLeNet()\n",
    "\n",
    "device = torch.device(\"cuda\" if torch.cuda.is_available() else \"cpu\")\n",
    "print(\"Target device: \" + str(device))\n",
    "\n",
    "model.to(device); # The semicolon is for not printing the model.\n"
   ]
  },
  {
   "cell_type": "code",
   "execution_count": null,
   "id": "4edd2af4-0cfe-4fda-aec1-45a776ab5a46",
   "metadata": {},
   "outputs": [],
   "source": []
  },
  {
   "cell_type": "code",
   "execution_count": 14,
   "id": "948a70ad-6906-4811-a33f-37c6e0749edf",
   "metadata": {},
   "outputs": [],
   "source": [
    "input_tensor = torch.randn(1, 20, 20, 20)\n",
    "output = model(input_tensor)"
   ]
  },
  {
   "cell_type": "markdown",
   "id": "d3ad4f53-4e45-4217-97f3-678171345246",
   "metadata": {},
   "source": [
    "### Data processing"
   ]
  },
  {
   "cell_type": "code",
   "execution_count": 15,
   "id": "59b7b02a-8bb0-4dd3-b5e4-accf4aaa6f61",
   "metadata": {},
   "outputs": [],
   "source": [
    "# This is for 4-bit quantization. The quantization value can be changed in line 11. \n",
    "\n",
    "import numpy as np\n",
    "import torchvision\n",
    "import torchvision.transforms as transforms\n",
    "from torch.utils.data import DataLoader, Dataset\n",
    "import os\n",
    "\n",
    "# quant_param = 4 # log2(quant_param) bits. #256 means no quanization, 2 means 1-bit quantization\n",
    "\n",
    "# def quantize_image(image):\n",
    "#     \"\"\"Quantize and binarize an image.\"\"\"\n",
    "#     image = image.astype(np.float32)\n",
    "#     image = np.floor(image / (256/quant_param))  # Example: reducing to 4-bit quantization\n",
    "#     return image.astype(np.float32)\n",
    "\n",
    "# def save_dataset_as_npz(data, labels, filename):\n",
    "#     \"\"\"Save the dataset as a .npz file.\"\"\"\n",
    "#     np.savez_compressed(filename, data=data, labels=labels)\n",
    "\n",
    "# # Load CIFAR-10 dataset\n",
    "# transform = transforms.Compose([transforms.ToTensor()])\n",
    "# train_dataset = torchvision.datasets.CIFAR10(root='./data', train=True, download=True, transform=transform)\n",
    "# test_dataset = torchvision.datasets.CIFAR10(root='./data', train=False, download=True, transform=transform)\n",
    "\n",
    "# # Quantize the images\n",
    "# train_images = np.array([quantize_image(image.numpy().transpose(1, 2, 0) * 255) for image, _ in train_dataset])\n",
    "# train_labels = np.array(train_dataset.targets)\n",
    "\n",
    "# test_images = np.array([quantize_image(image.numpy().transpose(1, 2, 0) * 255) for image, _ in test_dataset])\n",
    "# test_labels = np.array(test_dataset.targets)\n",
    "\n",
    "# # Save the datasets\n",
    "# os.makedirs('./quantized_data', exist_ok=True)\n",
    "# save_dataset_as_npz(train_images, train_labels, './quantized_data/cifar10_train.npz')\n",
    "# save_dataset_as_npz(test_images, test_labels, './quantized_data/cifar10_test.npz')\n",
    "\n",
    "# print('Saved the dataset as .npz files')\n",
    "\n",
    "\n",
    "class CIFAR10QuantizedDataset(Dataset):\n",
    "    def __init__(self, npz_file):\n",
    "        data = np.load(npz_file)\n",
    "        self.images = data['data']\n",
    "        self.labels = data['label']\n",
    "\n",
    "    def __len__(self):\n",
    "        return len(self.images)\n",
    "\n",
    "    def __getitem__(self, idx):\n",
    "        image = self.images[idx].astype(np.float32) / 255.0\n",
    "        label = self.labels[idx]\n",
    "        image = torch.tensor(image.transpose(2, 0, 1))  # HWC to CHW format\n",
    "        label = torch.tensor(label, dtype=torch.long)\n",
    "        return image, label\n",
    "\n",
    "# Load the quantized dataset\n",
    "train_dataset = CIFAR10QuantizedDataset('/home/inets/arish/FINN_arish/finn/notebooks/Testing_arish/data/X_lidar_train.npz')\n",
    "train_loader = DataLoader(train_dataset, batch_size=64, shuffle=True)\n",
    "\n",
    "test_dataset = CIFAR10QuantizedDataset('/home/inets/arish/FINN_arish/finn/notebooks/Testing_arish/data/X_lidar_test.npz')\n",
    "test_loader = DataLoader(test_dataset, batch_size=64, shuffle=False)\n"
   ]
  },
  {
   "cell_type": "markdown",
   "id": "01d13af9-200e-4f88-9f38-5f35d18bb9ce",
   "metadata": {},
   "source": [
    "### Training and testing"
   ]
  },
  {
   "cell_type": "code",
   "execution_count": null,
   "id": "39d2011e-5e01-4cba-ae7d-d8a831ee2e10",
   "metadata": {},
   "outputs": [],
   "source": []
  },
  {
   "cell_type": "code",
   "execution_count": 16,
   "id": "5ba85b47-0263-4bdf-a0b0-7e76ce4dc7ff",
   "metadata": {},
   "outputs": [
    {
     "name": "stderr",
     "output_type": "stream",
     "text": [
      "Training loss = 2.405633 test accuracy = 0.323091: 100%|███████████████████████████████████████████████████████████████████████| 10/10 [01:04<00:00,  6.42s/it]\n"
     ]
    }
   ],
   "source": [
    "import torch.optim as optim\n",
    "\n",
    "def train(model, train_loader, optimizer, criterion):\n",
    "    losses = []\n",
    "    # ensure model is in training mode\n",
    "    model.train()    \n",
    "    \n",
    "    for i, data in enumerate(train_loader, 0):        \n",
    "        images, labels = data\n",
    "        labels = torch.argmax(labels, dim=1)\n",
    "        images, labels = images.to(device), labels.to(device)\n",
    "        optimizer.zero_grad()   \n",
    "                \n",
    "        # forward pass\n",
    "        output = model(images.float())\n",
    "        # loss = criterion(output, labels.unsqueeze(1))\n",
    "        loss = criterion(output, labels)\n",
    "        \n",
    "        # backward pass + run optimizer to update weights\n",
    "        loss.backward()\n",
    "        optimizer.step()\n",
    "        \n",
    "        # keep track of loss value\n",
    "        losses.append(loss.data.cpu().numpy()) \n",
    "    return losses\n",
    "\n",
    "\n",
    "def test(model, test_loader):    \n",
    "    # ensure model is in eval mode\n",
    "    model.eval() \n",
    "    y_true = []\n",
    "    y_pred = []\n",
    "\n",
    "   \n",
    "    with torch.no_grad():\n",
    "        for data in test_loader:\n",
    "            images, labels = data\n",
    "            images, labels = images.to(device), labels.to(device)\n",
    "            output = model(images.float())\n",
    "            # run the output through sigmoid\n",
    "            # output = torch.sigmoid(output_orig)  \n",
    "            # compare against a threshold of 0.5 to generate 0/1\n",
    "            # pred = (output.detach().cpu().numpy() > 0.5) * 1\n",
    "            _, pred = torch.max(output.data, 1)\n",
    "            # labels = torch.argmax(labels, dim=1) #\n",
    "            labels = labels.cpu().float()  \n",
    "            # Convert one-hot encoded labels to class indices\n",
    "            if labels.ndim > 1 and labels.size(1) > 1:\n",
    "                labels = torch.argmax(labels, dim=1)\n",
    "            y_true.extend(labels.tolist()) \n",
    "            y_pred.extend(pred.reshape(-1).tolist())\n",
    "            # y_pred.extend((pred == labels).sum().item())\n",
    "        \n",
    "    return accuracy_score(y_true, y_pred)\n",
    "\n",
    "num_epochs = 10\n",
    "lr = 0.001 \n",
    "\n",
    "def display_loss_plot(losses, title=\"Training loss\", xlabel=\"Iterations\", ylabel=\"Loss\"):\n",
    "    x_axis = [i for i in range(len(losses))]\n",
    "    plt.plot(x_axis,losses)\n",
    "    plt.title(title)\n",
    "    plt.xlabel(xlabel)\n",
    "    plt.ylabel(ylabel)\n",
    "    plt.show()\n",
    "\n",
    "criterion = nn.CrossEntropyLoss().to(device)\n",
    "optimizer = torch.optim.Adam(model.parameters(), lr=lr, betas=(0.9, 0.999))\n",
    "\n",
    "# Setting seeds for reproducibility\n",
    "torch.manual_seed(0)\n",
    "np.random.seed(0)\n",
    "\n",
    "running_loss = []\n",
    "running_test_acc = []\n",
    "t = trange(num_epochs, desc=\"Training loss\", leave=True)\n",
    "\n",
    "for epoch in t:\n",
    "        loss_epoch = train(model, train_loader, optimizer,criterion)\n",
    "        test_acc = test(model, test_loader)\n",
    "        t.set_description(\"Training loss = %f test accuracy = %f\" % (np.mean(loss_epoch), test_acc))\n",
    "        t.refresh() # to show immediately the update           \n",
    "        running_loss.append(loss_epoch)\n",
    "        running_test_acc.append(test_acc)\n"
   ]
  },
  {
   "cell_type": "code",
   "execution_count": null,
   "id": "e3d0ba76-1444-4d26-a305-272c102f909c",
   "metadata": {},
   "outputs": [],
   "source": []
  },
  {
   "cell_type": "code",
   "execution_count": 17,
   "id": "b3e05908-29dc-4f6b-b3d4-67817d90be98",
   "metadata": {},
   "outputs": [
    {
     "name": "stdout",
     "output_type": "stream",
     "text": [
      "test accuracy =  0.3230909644052327\n"
     ]
    }
   ],
   "source": [
    "test_accuracy = test(model, test_loader)\n",
    "print('test accuracy = ', test_accuracy)"
   ]
  },
  {
   "cell_type": "code",
   "execution_count": 6,
   "id": "cc3c92a8-51cc-48ab-b7dc-f253413e18ba",
   "metadata": {},
   "outputs": [],
   "source": [
    "# # Save the Brevitas model to disk\n",
    "# torch.save(model.state_dict(), \"state_dict_LeNet_WeightAct.pth\")\n",
    "# # torch.save(model, \"LeNet_WeightAct.pth\")"
   ]
  },
  {
   "cell_type": "code",
   "execution_count": null,
   "id": "75516101-17f3-4577-ae05-f2c15844cf0c",
   "metadata": {},
   "outputs": [],
   "source": []
  },
  {
   "cell_type": "markdown",
   "id": "72396db9-ef9b-4f17-bfda-3e5c6e26184c",
   "metadata": {},
   "source": [
    "####  Convert to ONNX model"
   ]
  },
  {
   "cell_type": "code",
   "execution_count": 19,
   "id": "864c180c-c4d7-496f-85f1-b11d9e74dbc4",
   "metadata": {},
   "outputs": [],
   "source": [
    "import torch\n",
    "import onnx\n",
    "from finn.util.test import get_test_model_trained\n",
    "from brevitas.export import export_qonnx\n",
    "from qonnx.util.cleanup import cleanup as qonnx_cleanup\n",
    "from qonnx.core.modelwrapper import ModelWrapper\n",
    "from finn.transformation.qonnx.convert_qonnx_to_finn import ConvertQONNXtoFINN\n",
    "from qonnx.transformation.infer_shapes import InferShapes\n",
    "from qonnx.transformation.fold_constants import FoldConstants\n",
    "from qonnx.transformation.general import GiveReadableTensorNames, GiveUniqueNodeNames, RemoveStaticGraphInputs\n",
    "\n",
    "# # cnv = get_test_model_trained(\"CNV\", 1, 1)\n",
    "# model_path = \"state_dict_LeNet_WeightAct.pth\"\n",
    "# state_dict = torch.load(model_path)  # This returns an OrderedDict\n",
    "# model.load_state_dict(state_dict)  # Load the state dict into the model\n",
    "# # model = torch.load(model_path)\n",
    "\n",
    "export_onnx_path = \"LiDAR_WeightActBias.onnx\"\n",
    "# export_qonnx(model, torch.randn(1, 3, 32, 32), export_onnx_path)\n",
    "export_qonnx(model, torch.randn(1, 20, 20, 20), export_onnx_path, opset_version=9) # opset_version=9 is added as ONNX version 14 is not supported.\n",
    "qonnx_cleanup(export_onnx_path, out_file=export_onnx_path)\n",
    "\n",
    "model = ModelWrapper(export_onnx_path)\n",
    "model = model.transform(ConvertQONNXtoFINN())\n",
    "model = model.transform(InferShapes())\n",
    "model = model.transform(FoldConstants())\n",
    "model = model.transform(GiveUniqueNodeNames())\n",
    "model = model.transform(GiveReadableTensorNames())\n",
    "model = model.transform(RemoveStaticGraphInputs())\n",
    "model.save(\"LiDAR_WeightActBias_tidy.onnx\")"
   ]
  },
  {
   "cell_type": "code",
   "execution_count": 20,
   "id": "8f355842-2a9f-4485-adda-11cf9d07ad8e",
   "metadata": {},
   "outputs": [
    {
     "name": "stdout",
     "output_type": "stream",
     "text": [
      "Serving 'LiDAR_WeightActBias_tidy.onnx' at http://0.0.0.0:8081\n"
     ]
    },
    {
     "data": {
      "text/html": [
       "\n",
       "        <iframe\n",
       "            width=\"100%\"\n",
       "            height=\"400\"\n",
       "            src=\"http://localhost:8081/\"\n",
       "            frameborder=\"0\"\n",
       "            allowfullscreen\n",
       "            \n",
       "        ></iframe>\n",
       "        "
      ],
      "text/plain": [
       "<IPython.lib.display.IFrame at 0x7a0ebad2a290>"
      ]
     },
     "execution_count": 20,
     "metadata": {},
     "output_type": "execute_result"
    }
   ],
   "source": [
    "from finn.util.visualization import showInNetron\n",
    "showInNetron(\"LiDAR_WeightActBias_tidy.onnx\")"
   ]
  },
  {
   "cell_type": "code",
   "execution_count": 21,
   "id": "b5558e60-f77c-4c75-8d9f-dcca2ed86244",
   "metadata": {},
   "outputs": [],
   "source": [
    "import finn.builder.build_dataflow as build\n",
    "import finn.builder.build_dataflow_config as build_cfg\n",
    "import os\n",
    "import shutil\n",
    "from qonnx.core.modelwrapper import ModelWrapper\n",
    "\n",
    "from finn.util.pytorch import ToTensor\n",
    "from qonnx.transformation.merge_onnx_models import MergeONNXModels\n",
    "from qonnx.core.datatype import DataType\n",
    "\n",
    "from qonnx.transformation.insert_topk import InsertTopK\n",
    "from qonnx.transformation.infer_datatypes import InferDataTypes\n",
    "\n",
    "def custom_step_add_pre_proc(model: ModelWrapper, cfg: build.DataflowBuildConfig):\n",
    "    model = ModelWrapper(\"LiDAR_WeightActBias_tidy.onnx\")\n",
    "    global_inp_name = model.graph.input[0].name\n",
    "    ishape = model.get_tensor_shape(global_inp_name)\n",
    "    # print('ishape = ', ishape)\n",
    "    \n",
    "    # preprocessing: torchvision's ToTensor divides uint8 inputs by 255\n",
    "    totensor_pyt = ToTensor()\n",
    "    chkpt_preproc_name = \"LiDAR_WeightActBias_tidy_preproc.onnx\"\n",
    "    export_qonnx(totensor_pyt, torch.randn(ishape), chkpt_preproc_name, opset_version=9)\n",
    "    qonnx_cleanup(chkpt_preproc_name, out_file=chkpt_preproc_name)\n",
    "    pre_model = ModelWrapper(chkpt_preproc_name)\n",
    "    pre_model = pre_model.transform(ConvertQONNXtoFINN())\n",
    "    \n",
    "    # join preprocessing and core model\n",
    "    model = model.transform(MergeONNXModels(pre_model))\n",
    "    \n",
    "    # add input quantization annotation: UINT8 for all BNN-PYNQ models\n",
    "    global_inp_name = model.graph.input[0].name\n",
    "    model.set_tensor_datatype(global_inp_name, DataType[\"UINT8\"])\n",
    "    return model\n",
    "\n",
    "def custom_step_add_post_proc(model: ModelWrapper, cfg: build.DataflowBuildConfig):\n",
    "    model = model.transform(InsertTopK(k=1))\n",
    "    chkpt_name = \"LiDAR_WeightActBias_tidy_prepost.onnx\"\n",
    "    # tidy-up again\n",
    "    model = model.transform(InferShapes())\n",
    "    model = model.transform(FoldConstants())\n",
    "    model = model.transform(GiveUniqueNodeNames())\n",
    "    model = model.transform(GiveReadableTensorNames())\n",
    "    model = model.transform(InferDataTypes())\n",
    "    model = model.transform(RemoveStaticGraphInputs())\n",
    "    model.save(chkpt_name)\n",
    "    return model\n",
    "\n",
    "# postprocessing: insert Top-1 node at the end\n"
   ]
  },
  {
   "cell_type": "markdown",
   "id": "c9ee3894-2b2c-445d-bea0-670570592faa",
   "metadata": {},
   "source": [
    "### Folding"
   ]
  },
  {
   "cell_type": "code",
   "execution_count": 4,
   "id": "bc774ada-bbc8-479c-81e6-b1953a1c59bc",
   "metadata": {},
   "outputs": [],
   "source": [
    "# from finn.transformation.fpgadataflow.make_zynq_proj import ZynqBuild\n",
    "# model = ModelWrapper(\"LeNet_WeightAct_dataflow_model.onnx\")\n",
    "# fc_layers = model.get_nodes_by_op_type(\"MVAU_hls\")\n",
    "# # print(fc_layers)\n",
    "# # each tuple is (PE, SIMD, in_fifo_depth) for a layer\n",
    "# folding = [\n",
    "#     (6, 3, [16]),   # conv1\n",
    "#     (8, 3, [16]),   # conv2\n",
    "#     (60, 64, [64]), # fc1\n",
    "#     (42, 30, [64]), # fc2\n",
    "#     # (5, 42, [10]),   #fc3\n",
    "# ]\n",
    "\n",
    "# # Apply folding parameters to fully connected layers\n",
    "# for fcl, (pe, simd, ififodepth) in zip(fc_layers, folding):\n",
    "#     fcl_inst = getCustomOp(fcl)\n",
    "#     fcl_inst.set_nodeattr(\"PE\", pe)\n",
    "#     fcl_inst.set_nodeattr(\"SIMD\", simd)\n",
    "#     fcl_inst.set_nodeattr(\"inFIFODepths\", ififodepth)\n",
    "#     # Debug: Verify parameters are set correctly\n",
    "#     print(f\"{fcl.name} -> PE: {pe}, SIMD: {simd}, inFIFOdepths: {ififodepth}\")\n",
    "\n",
    "# # use same SIMD values for the sliding window operators\n",
    "# swg_layers = model.get_nodes_by_op_type(\"ConvolutionInputGenerator_rtl\")\n",
    "\n",
    "# for i, swg in enumerate(swg_layers):\n",
    "#   if i < len(folding):\n",
    "#       swg_inst = getCustomOp(swg)\n",
    "#       simd = folding[i][1]\n",
    "#       swg_inst.set_nodeattr(\"SIMD\", simd)\n",
    "#       # Debug: Verify SIMD is set correctly\n",
    "#       print(f\"{swg.name} -> SIMD: {simd}\")\n",
    "#   else:\n",
    "#       print(f\"No folding parameters available for {swg.name}\")\n",
    "      \n",
    "# # Save the transformed model\n",
    "# model = model.transform(GiveUniqueNodeNames())\n",
    "# model.save(\"LeNet_WeightAct_folded.onnx\")\n",
    "  \n",
    "# # Debug: Print the shapes to ensure compatibility\n",
    "# for node in model.graph.node:\n",
    "#   node_inst = getCustomOp(node)\n",
    "#   try:\n",
    "#       print(f\"Checking folded input shape for node: {node.name}\")\n",
    "#       folded_shape = node_inst.get_folded_input_shape()\n",
    "#       print(f\"{node.name}: Folded input shape = {folded_shape}\")\n",
    "#   except Exception as e:\n",
    "#       print(f\"Error getting folded input shape for {node.name}: {e}\")\n"
   ]
  },
  {
   "cell_type": "code",
   "execution_count": 75,
   "id": "d808db89-fa27-438a-b868-3b172fbd369c",
   "metadata": {},
   "outputs": [],
   "source": [
    "# print(swg_layers)"
   ]
  },
  {
   "cell_type": "code",
   "execution_count": 22,
   "id": "0cb4905a-6aa1-4a16-897c-1c842d7b20f7",
   "metadata": {},
   "outputs": [
    {
     "ename": "FileNotFoundError",
     "evalue": "[Errno 2] No such file or directory: 'LiDAR_WeightActBias_folded.onnx'",
     "output_type": "error",
     "traceback": [
      "\u001b[0;31m---------------------------------------------------------------------------\u001b[0m",
      "\u001b[0;31mFileNotFoundError\u001b[0m                         Traceback (most recent call last)",
      "Cell \u001b[0;32mIn[22], line 1\u001b[0m\n\u001b[0;32m----> 1\u001b[0m \u001b[43mshowInNetron\u001b[49m\u001b[43m(\u001b[49m\u001b[38;5;124;43m\"\u001b[39;49m\u001b[38;5;124;43mLiDAR_WeightActBias_folded.onnx\u001b[39;49m\u001b[38;5;124;43m\"\u001b[39;49m\u001b[43m)\u001b[49m\n",
      "File \u001b[0;32m/home/inets/arish/FINN_arish/finn/src/finn/util/visualization.py:61\u001b[0m, in \u001b[0;36mshowInNetron\u001b[0;34m(model_filename, localhost_url, port)\u001b[0m\n\u001b[1;32m     59\u001b[0m     port \u001b[38;5;241m=\u001b[39m \u001b[38;5;241m8081\u001b[39m\n\u001b[1;32m     60\u001b[0m localhost_url \u001b[38;5;241m=\u001b[39m localhost_url \u001b[38;5;129;01mor\u001b[39;00m os\u001b[38;5;241m.\u001b[39mgetenv(\u001b[38;5;124m\"\u001b[39m\u001b[38;5;124mLOCALHOST_URL\u001b[39m\u001b[38;5;124m\"\u001b[39m, default\u001b[38;5;241m=\u001b[39m\u001b[38;5;124m\"\u001b[39m\u001b[38;5;124mlocalhost\u001b[39m\u001b[38;5;124m\"\u001b[39m)\n\u001b[0;32m---> 61\u001b[0m \u001b[43mnetron\u001b[49m\u001b[38;5;241;43m.\u001b[39;49m\u001b[43mstart\u001b[49m\u001b[43m(\u001b[49m\u001b[43mmodel_filename\u001b[49m\u001b[43m,\u001b[49m\u001b[43m \u001b[49m\u001b[43maddress\u001b[49m\u001b[38;5;241;43m=\u001b[39;49m\u001b[43m(\u001b[49m\u001b[38;5;124;43m\"\u001b[39;49m\u001b[38;5;124;43m0.0.0.0\u001b[39;49m\u001b[38;5;124;43m\"\u001b[39;49m\u001b[43m,\u001b[49m\u001b[43m \u001b[49m\u001b[43mport\u001b[49m\u001b[43m)\u001b[49m\u001b[43m,\u001b[49m\u001b[43m \u001b[49m\u001b[43mbrowse\u001b[49m\u001b[38;5;241;43m=\u001b[39;49m\u001b[38;5;28;43;01mFalse\u001b[39;49;00m\u001b[43m)\u001b[49m\n\u001b[1;32m     62\u001b[0m \u001b[38;5;28;01mreturn\u001b[39;00m IFrame(src\u001b[38;5;241m=\u001b[39m\u001b[38;5;124mf\u001b[39m\u001b[38;5;124m\"\u001b[39m\u001b[38;5;124mhttp://\u001b[39m\u001b[38;5;132;01m{\u001b[39;00mlocalhost_url\u001b[38;5;132;01m}\u001b[39;00m\u001b[38;5;124m:\u001b[39m\u001b[38;5;132;01m{\u001b[39;00mport\u001b[38;5;132;01m}\u001b[39;00m\u001b[38;5;124m/\u001b[39m\u001b[38;5;124m\"\u001b[39m, width\u001b[38;5;241m=\u001b[39m\u001b[38;5;124m\"\u001b[39m\u001b[38;5;124m100\u001b[39m\u001b[38;5;124m%\u001b[39m\u001b[38;5;124m\"\u001b[39m, height\u001b[38;5;241m=\u001b[39m\u001b[38;5;241m400\u001b[39m)\n",
      "File \u001b[0;32m/usr/local/lib/python3.10/dist-packages/netron/server.py:326\u001b[0m, in \u001b[0;36mstart\u001b[0;34m(file, address, browse, verbosity)\u001b[0m\n\u001b[1;32m    314\u001b[0m \u001b[38;5;28;01mdef\u001b[39;00m \u001b[38;5;21mstart\u001b[39m(file\u001b[38;5;241m=\u001b[39m\u001b[38;5;28;01mNone\u001b[39;00m, address\u001b[38;5;241m=\u001b[39m\u001b[38;5;28;01mNone\u001b[39;00m, browse\u001b[38;5;241m=\u001b[39m\u001b[38;5;28;01mTrue\u001b[39;00m, verbosity\u001b[38;5;241m=\u001b[39m\u001b[38;5;241m1\u001b[39m):\n\u001b[1;32m    315\u001b[0m \u001b[38;5;250m    \u001b[39m\u001b[38;5;124;03m'''Start serving model file at address and open in web browser.\u001b[39;00m\n\u001b[1;32m    316\u001b[0m \n\u001b[1;32m    317\u001b[0m \u001b[38;5;124;03m    Args:\u001b[39;00m\n\u001b[0;32m   (...)\u001b[0m\n\u001b[1;32m    324\u001b[0m \u001b[38;5;124;03m        A (host, port) address tuple.\u001b[39;00m\n\u001b[1;32m    325\u001b[0m \u001b[38;5;124;03m    '''\u001b[39;00m\n\u001b[0;32m--> 326\u001b[0m     \u001b[38;5;28;01mreturn\u001b[39;00m \u001b[43mserve\u001b[49m\u001b[43m(\u001b[49m\u001b[43mfile\u001b[49m\u001b[43m,\u001b[49m\u001b[43m \u001b[49m\u001b[38;5;28;43;01mNone\u001b[39;49;00m\u001b[43m,\u001b[49m\u001b[43m \u001b[49m\u001b[43mbrowse\u001b[49m\u001b[38;5;241;43m=\u001b[39;49m\u001b[43mbrowse\u001b[49m\u001b[43m,\u001b[49m\u001b[43m \u001b[49m\u001b[43maddress\u001b[49m\u001b[38;5;241;43m=\u001b[39;49m\u001b[43maddress\u001b[49m\u001b[43m,\u001b[49m\u001b[43m \u001b[49m\u001b[43mverbosity\u001b[49m\u001b[38;5;241;43m=\u001b[39;49m\u001b[43mverbosity\u001b[49m\u001b[43m)\u001b[49m\n",
      "File \u001b[0;32m/usr/local/lib/python3.10/dist-packages/netron/server.py:286\u001b[0m, in \u001b[0;36mserve\u001b[0;34m(file, data, address, browse, verbosity)\u001b[0m\n\u001b[1;32m    283\u001b[0m verbosity \u001b[38;5;241m=\u001b[39m { \u001b[38;5;124m'\u001b[39m\u001b[38;5;124m0\u001b[39m\u001b[38;5;124m'\u001b[39m: \u001b[38;5;241m0\u001b[39m, \u001b[38;5;124m'\u001b[39m\u001b[38;5;124mquiet\u001b[39m\u001b[38;5;124m'\u001b[39m: \u001b[38;5;241m0\u001b[39m, \u001b[38;5;124m'\u001b[39m\u001b[38;5;124m1\u001b[39m\u001b[38;5;124m'\u001b[39m: \u001b[38;5;241m1\u001b[39m, \u001b[38;5;124m'\u001b[39m\u001b[38;5;124mdefault\u001b[39m\u001b[38;5;124m'\u001b[39m: \u001b[38;5;241m1\u001b[39m, \u001b[38;5;124m'\u001b[39m\u001b[38;5;124m2\u001b[39m\u001b[38;5;124m'\u001b[39m: \u001b[38;5;241m2\u001b[39m, \u001b[38;5;124m'\u001b[39m\u001b[38;5;124mdebug\u001b[39m\u001b[38;5;124m'\u001b[39m: \u001b[38;5;241m2\u001b[39m }[\u001b[38;5;28mstr\u001b[39m(verbosity)]\n\u001b[1;32m    285\u001b[0m \u001b[38;5;28;01mif\u001b[39;00m \u001b[38;5;129;01mnot\u001b[39;00m data \u001b[38;5;129;01mand\u001b[39;00m file \u001b[38;5;129;01mand\u001b[39;00m \u001b[38;5;129;01mnot\u001b[39;00m os\u001b[38;5;241m.\u001b[39mpath\u001b[38;5;241m.\u001b[39mexists(file):\n\u001b[0;32m--> 286\u001b[0m     \u001b[38;5;28;01mraise\u001b[39;00m \u001b[38;5;167;01mFileNotFoundError\u001b[39;00m(errno\u001b[38;5;241m.\u001b[39mENOENT, os\u001b[38;5;241m.\u001b[39mstrerror(errno\u001b[38;5;241m.\u001b[39mENOENT), file)\n\u001b[1;32m    288\u001b[0m content \u001b[38;5;241m=\u001b[39m _ContentProvider(data, file, file, file)\n\u001b[1;32m    290\u001b[0m \u001b[38;5;28;01mif\u001b[39;00m data \u001b[38;5;129;01mand\u001b[39;00m \u001b[38;5;129;01mnot\u001b[39;00m \u001b[38;5;28misinstance\u001b[39m(data, \u001b[38;5;28mbytearray\u001b[39m) \u001b[38;5;129;01mand\u001b[39;00m \u001b[38;5;28misinstance\u001b[39m(data\u001b[38;5;241m.\u001b[39m\u001b[38;5;18m__class__\u001b[39m, \u001b[38;5;28mtype\u001b[39m):\n",
      "\u001b[0;31mFileNotFoundError\u001b[0m: [Errno 2] No such file or directory: 'LiDAR_WeightActBias_folded.onnx'"
     ]
    }
   ],
   "source": [
    "showInNetron(\"LiDAR_WeightActBias_folded.onnx\")"
   ]
  },
  {
   "cell_type": "code",
   "execution_count": 5,
   "id": "3c76b3e6-fc36-40b6-876e-a70d2564086c",
   "metadata": {},
   "outputs": [],
   "source": [
    "# from finn.transformation.fpgadataflow.make_zynq_proj import ZynqBuild\n",
    "# test_pynq_board = \"Pynq-Z1\"\n",
    "# target_clk_ns = 10\n",
    "# model = ModelWrapper(\"LeNet_WeightAct_folded.onnx\")\n",
    "# # model = model.transform(ZynqBuild(platform = pynq_board, period_ns = target_clk_ns))\n",
    "# try:\n",
    "#   model = model.transform(ZynqBuild(platform=test_pynq_board, period_ns=target_clk_ns))\n",
    "#   print(\"Hardware generation successful\")\n",
    "# except Exception as e:\n",
    "#   print(f\"Error during hardware generation: {e}\")"
   ]
  },
  {
   "cell_type": "markdown",
   "id": "55c14ce0-c03e-4d53-8d2b-569c3a33d90b",
   "metadata": {},
   "source": [
    "## Understanding the Build Configuration: `DataflowBuildConfig` <a id=\"underst_build_conf\"></a>\n",
    "\n",
    "The build configuration is specified by an instance of `finn.builder.build_dataflow_config.DataflowBuildConfig`. The configuration is a Python [`dataclass`](https://docs.python.org/3/library/dataclasses.html) which can be serialized into or de-serialized from JSON files for persistence, although we'll just set it up in Python here.\n",
    "There are many options in the configuration to customize different aspects of the build, we'll only cover a few of them in this notebook. You can read the details on all the config options on [the FINN API documentation](https://finn-dev.readthedocs.io/en/latest/source_code/finn.builder.html#finn.builder.build_dataflow_config.DataflowBuildConfig).\n",
    "\n",
    "Let's go over some of the members of the `DataflowBuildConfig`:\n",
    "\n",
    "### Output Products <a id=\"output_prod\"></a>\n",
    "\n",
    "The build can produce many different outputs, and some of them can take a long time (e.g. bitfile synthesis for a large network). When you first start working on generating a new accelerator and exploring the different performance options, you may not want to go all the way to a bitfile. Thus, in the beginning you may just select the estimate reports as the output products. Gradually, you can generate the output products from later stages until you are happy enough with the design to build the full accelerator integrated into a shell.\n",
    "\n",
    "The output products are controlled by:\n",
    "\n",
    "* `generate_outputs`: list of output products (of type [`finn.builder.build_dataflow_config.DataflowOutputType`](https://finn-dev.readthedocs.io/en/latest/source_code/finn.builder.html#finn.builder.build_dataflow_config.DataflowOutputType)) that will be generated by the build. Some available options are:\n",
    "    - `ESTIMATE_REPORTS` : report expected resources and performance per layer and for the whole network without any synthesis\n",
    "    - `STITCHED_IP` : create a stream-in stream-out IP design that can be integrated into other Vivado IPI or RTL designs\n",
    "    - `RTLSIM_PERFORMANCE` : use PyVerilator to do a performance/latency test of the `STITCHED_IP` design\n",
    "    - `OOC_SYNTH` : run out-of-context synthesis (just the accelerator itself, without any system surrounding it) on the `STITCHED_IP` design to get post-synthesis FPGA resources and achievable clock frequency\n",
    "    - `BITFILE` : integrate the accelerator into a shell to produce a standalone bitfile\n",
    "    - `PYNQ_DRIVER` : generate a PYNQ Python driver that can be used to launch the accelerator\n",
    "    - `DEPLOYMENT_PACKAGE` : create a folder with the `BITFILE` and `PYNQ_DRIVER` outputs, ready to be copied to the target FPGA platform.\n",
    "* `output_dir`: the directory where all the generated build outputs above will be written into.\n",
    "* `steps`: list of predefined (or custom) build steps FINN will go through. Use `build_dataflow_config.estimate_only_dataflow_steps` to execute only the steps needed for estimation (without any synthesis), and the `build_dataflow_config.default_build_dataflow_steps` otherwise (which is the default value). You can find the list of default steps [here](https://finn.readthedocs.io/en/latest/source_code/finn.builder.html#finn.builder.build_dataflow_config.default_build_dataflow_steps) in the documentation.\n",
    "\n",
    "### Configuring the Board and FPGA Part <a id=\"config_fpga\"></a>\n",
    "\n",
    "* `fpga_part`: Xilinx FPGA part to be used for synthesis, can be left unspecified to be inferred from `board` below, or specified explicitly for e.g. out-of-context synthesis.\n",
    "* `board`: target Xilinx Zynq or Alveo board for generating accelerators integrated into a shell. See the `pynq_part_map` and `alveo_part_map` dicts in [this file](https://github.com/Xilinx/finn-base/blob/dev/src/finn/util/basic.py#L41) for a list of possible boards.\n",
    "* `shell_flow_type`: the target [shell flow type](https://finn-dev.readthedocs.io/en/latest/source_code/finn.builder.html#finn.builder.build_dataflow_config.ShellFlowType), only needed for generating full bitfiles where the FINN design is integrated into a shell (so only needed if `BITFILE` is selected) \n",
    "\n",
    "### Configuring the Performance <a id=\"config_perf\"></a>\n",
    "\n",
    "You can configure the performance (and correspondingly, the FPGA resource footprint) of the generated dataflow accelerator in two ways:\n",
    "\n",
    "1) (basic) Set a target performance and let the compiler figure out the per-node parallelization settings.\n",
    "\n",
    "2) (advanced) Specify a separate .json as `folding_config_file` that lists the degree of parallelization (as well as other hardware options) for each layer.\n",
    "\n",
    "This notebook only deals with the basic approach, for which you need to set up:\n",
    "\n",
    "* `target_fps`: target inference performance in frames per second. Note that target may not be achievable due to specific layer constraints, or due to resource limitations of the FPGA. \n",
    "* `synth_clk_period_ns`: target clock frequency (in nanoseconds) for Vivado synthesis. e.g. `synth_clk_period_ns=5.0` will target a 200 MHz clock. Note that the target clock period may not be achievable depending on the FPGA part and design complexity."
   ]
  },
  {
   "cell_type": "markdown",
   "id": "7b33607b-067c-4cfe-a7c9-cada768aa832",
   "metadata": {},
   "source": [
    "## Launch a Build: Only Estimate Reports <a id=\"build_estimate_report\"></a>\n",
    "\n",
    "##### This is based on \"cybersecurity/3-build-accelerator-with-finn.ipynb\" notebook."
   ]
  },
  {
   "cell_type": "code",
   "execution_count": 23,
   "id": "a91174a0-2a8a-47c8-b030-fc101a08b4ee",
   "metadata": {},
   "outputs": [
    {
     "name": "stdout",
     "output_type": "stream",
     "text": [
      "Previous run results deleted!\n"
     ]
    }
   ],
   "source": [
    "import finn.builder.build_dataflow as build\n",
    "import finn.builder.build_dataflow_config as build_cfg\n",
    "import os\n",
    "import shutil\n",
    "\n",
    "# model_dir = os.environ['FINN_ROOT'] + \"/notebooks/end2end_example/cybersecurity\"\n",
    "# model_file = \"LeNet_WeightAct_folded.onnx\"\n",
    "model_file = \"LiDAR_WeightActBias_tidy.onnx\"\n",
    "# model_file = \"LeNet_WeightAct.onnx\"\n",
    "\n",
    "estimates_output_dir = \"output_estimates_only\"\n",
    "\n",
    "#Delete previous run results if exist\n",
    "if os.path.exists(estimates_output_dir):\n",
    "    shutil.rmtree(estimates_output_dir)\n",
    "    print(\"Previous run results deleted!\")\n",
    "\n",
    "\n",
    "cfg_estimates = build.DataflowBuildConfig(\n",
    "    output_dir          = estimates_output_dir,\n",
    "    mvau_wwidth_max     = 80,\n",
    "    target_fps          = 1000000,\n",
    "    synth_clk_period_ns = 10.0,\n",
    "    fpga_part           = \"xc7z020clg400-1\",\n",
    "    steps               = build_cfg.estimate_only_dataflow_steps,\n",
    "    generate_outputs=[\n",
    "        build_cfg.DataflowOutputType.ESTIMATE_REPORTS,\n",
    "    ]\n",
    ")"
   ]
  },
  {
   "cell_type": "code",
   "execution_count": 24,
   "id": "d27cc14a-00c0-40cd-8967-7d532bf0d4a4",
   "metadata": {},
   "outputs": [
    {
     "name": "stdout",
     "output_type": "stream",
     "text": [
      "Building dataflow accelerator from LiDAR_WeightActBias_tidy.onnx\n",
      "Intermediate outputs will be generated in /tmp/finn_dev_inets\n",
      "Final outputs will be generated in output_estimates_only\n",
      "Build log is at output_estimates_only/build_dataflow.log\n",
      "Running step: step_qonnx_to_finn [1/10]\n",
      "Running step: step_tidy_up [2/10]\n",
      "Running step: step_streamline [3/10]\n",
      "Running step: step_convert_to_hw [4/10]\n",
      "Running step: step_create_dataflow_partition [5/10]\n",
      "Running step: step_specialize_layers [6/10]\n",
      "Running step: step_target_fps_parallelization [7/10]\n",
      "Running step: step_apply_folding_config [8/10]\n",
      "Running step: step_minimize_bit_width [9/10]\n",
      "Running step: step_generate_estimate_reports [10/10]\n",
      "Completed successfully\n",
      "CPU times: user 1.14 s, sys: 3.99 ms, total: 1.15 s\n",
      "Wall time: 1.16 s\n"
     ]
    },
    {
     "data": {
      "text/plain": [
       "0"
      ]
     },
     "execution_count": 24,
     "metadata": {},
     "output_type": "execute_result"
    }
   ],
   "source": [
    "%%time\n",
    "build.build_dataflow_cfg(model_file, cfg_estimates)"
   ]
  },
  {
   "cell_type": "code",
   "execution_count": 25,
   "id": "541d4c22-5011-4666-921b-5b50fc573de7",
   "metadata": {},
   "outputs": [],
   "source": [
    "import json\n",
    "def read_json_dict(filename):\n",
    "    with open(filename, \"r\") as f:\n",
    "        ret = json.load(f)\n",
    "    return ret"
   ]
  },
  {
   "cell_type": "code",
   "execution_count": 26,
   "id": "19fe2503-14d9-4c87-be97-189647cf53fc",
   "metadata": {},
   "outputs": [
    {
     "data": {
      "text/plain": [
       "{'critical_path_cycles': 27840,\n",
       " 'max_cycles': 6400,\n",
       " 'max_cycles_node_name': 'MVAU_hls_0',\n",
       " 'estimated_throughput_fps': 15625.0,\n",
       " 'estimated_latency_ns': 278400.0}"
      ]
     },
     "execution_count": 26,
     "metadata": {},
     "output_type": "execute_result"
    }
   ],
   "source": [
    "read_json_dict(estimates_output_dir + \"/report/estimate_network_performance.json\")"
   ]
  },
  {
   "cell_type": "code",
   "execution_count": 1,
   "id": "af42ae69-4dba-4696-a77d-5f58dd2f5d7c",
   "metadata": {},
   "outputs": [],
   "source": [
    "# read_json_dict(estimates_output_dir + \"/report/estimate_layer_cycles.json\")"
   ]
  },
  {
   "cell_type": "code",
   "execution_count": 2,
   "id": "f523ae52-c8df-4242-94d1-3cca64c2237e",
   "metadata": {},
   "outputs": [],
   "source": [
    "# read_json_dict(estimates_output_dir + \"/report/op_and_param_counts.json\")"
   ]
  },
  {
   "cell_type": "code",
   "execution_count": 3,
   "id": "d1dc3e11-dd18-4512-8961-4fe2144bac6e",
   "metadata": {},
   "outputs": [],
   "source": [
    "# read_json_dict(estimates_output_dir + \"/report/estimate_layer_resources.json\")"
   ]
  },
  {
   "cell_type": "code",
   "execution_count": 34,
   "id": "a33f8c97-6693-4d97-93a4-77c0048ac623",
   "metadata": {},
   "outputs": [],
   "source": [
    "# read_json_dict(estimates_output_dir + \"/report/estimate_layer_config_alternatives.json\")"
   ]
  },
  {
   "cell_type": "markdown",
   "id": "e4d8690d-4932-4d0c-b80a-916fd77eb451",
   "metadata": {},
   "source": [
    "## Launch a Build: Stitched IP, out-of-context synth and rtlsim Performance <a id=\"build_ip_synth_rtlsim\"></a>\n",
    "\n",
    "Once we have a configuration that gives satisfactory estimates, we can move on to generating the accelerator. We can do this in different ways depending on how we want to integrate the accelerator into a larger system. For instance, if we have a larger streaming system built in Vivado or if we'd like to re-use this generated accelerator as an IP component in other projects, the `STITCHED_IP` output product is a good choice. We can also use the `OOC_SYNTH` output product to get post-synthesis resource and clock frequency numbers for our accelerator.\n",
    "\n",
    "<font color=\"red\">**Live FINN tutorial:** These next builds will take about 10 minutes to complete since multiple calls to Vivado and a call to RTL simulation are involved. While this is running, you can examine the generated files with noVNC -- it is running on **(your AWS URL):6080/vnc.html**\n",
    "\n",
    "* Once the `step_hls_codegen [8/16]` below is completed, you can view the generated HLS code under its own folder for each layer: `/tmp/finn_dev_ubuntu/code_gen_ipgen_MVAU_hls_XXXXXX`\n",
    "    \n",
    "* Once the `step_create_stitched_ip [11/16]` below is completed, you can view the generated stitched IP in Vivado under `/home/ubuntu/finn/notebooks/end2end_example/cybersecurity/output_ipstitch_ooc_rtlsim/stitched_ip`\n",
    "</font> "
   ]
  },
  {
   "cell_type": "code",
   "execution_count": 27,
   "id": "4a5a9aeb-faf8-4f5e-a9d1-51442cb28c96",
   "metadata": {},
   "outputs": [
    {
     "name": "stdout",
     "output_type": "stream",
     "text": [
      "Previous run results deleted!\n"
     ]
    }
   ],
   "source": [
    "import finn.builder.build_dataflow as build\n",
    "import finn.builder.build_dataflow_config as build_cfg\n",
    "import finn.builder.build_dataflow_steps as build_steps\n",
    "import os\n",
    "import shutil\n",
    "\n",
    "model_file = \"LiDAR_WeightActBias_tidy.onnx\"\n",
    "# model_file = \"LeNet_WeightAct.onnx\"\n",
    "# model_file = \"LeNet_WeightAct_folded.onnx\"\n",
    "\n",
    "rtlsim_output_dir = \"output_ipstitch_ooc_rtlsim\"\n",
    "\n",
    "#Delete previous run results if exist\n",
    "if os.path.exists(rtlsim_output_dir):\n",
    "    shutil.rmtree(rtlsim_output_dir)\n",
    "    print(\"Previous run results deleted!\")\n",
    "\n",
    "cfg_stitched_ip = build.DataflowBuildConfig(\n",
    "    output_dir          = rtlsim_output_dir,\n",
    "    mvau_wwidth_max     = 10,   # 10, 15 works, 20 not. (mvau: matrix vector activation unit)\n",
    "    target_fps          = 1000000,#1000000,\n",
    "    synth_clk_period_ns = 10.0,\n",
    "    fpga_part           = \"xc7z020clg400-1\",\n",
    "    # specialize_layers_config_file=\"specialize_layers_config.json\",\n",
    "    steps = [custom_step_add_pre_proc, custom_step_add_post_proc] + build_cfg.default_build_dataflow_steps,\n",
    "    # steps = [ build_steps.step_hw_codegen, build_steps.step_hw_ipgen, build_steps.step_set_fifo_depths,build_steps.step_create_stitched_ip], #, '', ''step_create_stitched_ip, 'step_measure_rtlsim_performance'\n",
    "    generate_outputs=[\n",
    "        build_cfg.DataflowOutputType.ESTIMATE_REPORTS,\n",
    "        build_cfg.DataflowOutputType.STITCHED_IP,\n",
    "        build_cfg.DataflowOutputType.RTLSIM_PERFORMANCE,\n",
    "        # build_cfg.DataflowOutputType.OOC_SYNTH,\n",
    "    ]\n",
    ")\n",
    "\n",
    "# Next step: try to figure out in which file the folding is done and edit that file to apply folding manually.\n"
   ]
  },
  {
   "cell_type": "code",
   "execution_count": 28,
   "id": "4a258c46-14ee-421f-96a1-e6a8c0c10687",
   "metadata": {},
   "outputs": [
    {
     "name": "stdout",
     "output_type": "stream",
     "text": [
      "Building dataflow accelerator from LiDAR_WeightActBias_tidy.onnx\n",
      "Intermediate outputs will be generated in /tmp/finn_dev_inets\n",
      "Final outputs will be generated in output_ipstitch_ooc_rtlsim\n",
      "Build log is at output_ipstitch_ooc_rtlsim/build_dataflow.log\n",
      "Running step: custom_step_add_pre_proc [1/21]\n",
      "Running step: custom_step_add_post_proc [2/21]\n",
      "Running step: step_qonnx_to_finn [3/21]\n",
      "Running step: step_tidy_up [4/21]\n",
      "Running step: step_streamline [5/21]\n",
      "Running step: step_convert_to_hw [6/21]\n",
      "Running step: step_create_dataflow_partition [7/21]\n",
      "Running step: step_specialize_layers [8/21]\n",
      "Running step: step_target_fps_parallelization [9/21]\n",
      "Running step: step_apply_folding_config [10/21]\n",
      "Running step: step_minimize_bit_width [11/21]\n",
      "Running step: step_generate_estimate_reports [12/21]\n",
      "Running step: step_hw_codegen [13/21]\n",
      "Running step: step_hw_ipgen [14/21]\n",
      "Running step: step_set_fifo_depths [15/21]\n",
      "Running step: step_create_stitched_ip [16/21]\n",
      "Running step: step_measure_rtlsim_performance [17/21]\n",
      "Running step: step_out_of_context_synthesis [18/21]\n",
      "Running step: step_synthesize_bitfile [19/21]\n",
      "Running step: step_make_pynq_driver [20/21]\n",
      "Running step: step_deployment_package [21/21]\n",
      "Completed successfully\n",
      "CPU times: user 5.47 s, sys: 236 ms, total: 5.71 s\n",
      "Wall time: 3min 53s\n"
     ]
    },
    {
     "data": {
      "text/plain": [
       "0"
      ]
     },
     "execution_count": 28,
     "metadata": {},
     "output_type": "execute_result"
    }
   ],
   "source": [
    "%%time\n",
    "build.build_dataflow_cfg(model_file, cfg_stitched_ip)"
   ]
  },
  {
   "cell_type": "code",
   "execution_count": null,
   "id": "b67b3c62-0466-45e5-bda4-a9fd574517cc",
   "metadata": {},
   "outputs": [],
   "source": []
  },
  {
   "cell_type": "code",
   "execution_count": 29,
   "id": "35473420-d218-450a-ae43-628f2b024d71",
   "metadata": {},
   "outputs": [],
   "source": [
    "import json\n",
    "def read_json_dict(filename):\n",
    "    with open(filename, \"r\") as f:\n",
    "        ret = json.load(f)\n",
    "    return ret"
   ]
  },
  {
   "cell_type": "code",
   "execution_count": 30,
   "id": "79d7794f-899a-419f-9afd-1aa3547dcc22",
   "metadata": {},
   "outputs": [
    {
     "data": {
      "text/plain": [
       "{'critical_path_cycles': 192007,\n",
       " 'max_cycles': 64000,\n",
       " 'max_cycles_node_name': 'MVAU_hls_0',\n",
       " 'estimated_throughput_fps': 1562.5,\n",
       " 'estimated_latency_ns': 1920070.0}"
      ]
     },
     "execution_count": 30,
     "metadata": {},
     "output_type": "execute_result"
    }
   ],
   "source": [
    "read_json_dict(rtlsim_output_dir + \"/report/estimate_network_performance.json\")"
   ]
  },
  {
   "cell_type": "code",
   "execution_count": 31,
   "id": "06bd2ab4-b535-4619-9207-1a8134876a3a",
   "metadata": {},
   "outputs": [
    {
     "ename": "AssertionError",
     "evalue": "",
     "output_type": "error",
     "traceback": [
      "\u001b[0;31m---------------------------------------------------------------------------\u001b[0m",
      "\u001b[0;31mAssertionError\u001b[0m                            Traceback (most recent call last)",
      "Cell \u001b[0;32mIn[31], line 1\u001b[0m\n\u001b[0;32m----> 1\u001b[0m \u001b[38;5;28;01massert\u001b[39;00m os\u001b[38;5;241m.\u001b[39mpath\u001b[38;5;241m.\u001b[39mexists(rtlsim_output_dir \u001b[38;5;241m+\u001b[39m \u001b[38;5;124m\"\u001b[39m\u001b[38;5;124m/report/ooc_synth_and_timing.json\u001b[39m\u001b[38;5;124m\"\u001b[39m)\n\u001b[1;32m      2\u001b[0m \u001b[38;5;28;01massert\u001b[39;00m os\u001b[38;5;241m.\u001b[39mpath\u001b[38;5;241m.\u001b[39mexists(rtlsim_output_dir \u001b[38;5;241m+\u001b[39m \u001b[38;5;124m\"\u001b[39m\u001b[38;5;124m/report/rtlsim_performance.json\u001b[39m\u001b[38;5;124m\"\u001b[39m)\n\u001b[1;32m      3\u001b[0m \u001b[38;5;28;01massert\u001b[39;00m os\u001b[38;5;241m.\u001b[39mpath\u001b[38;5;241m.\u001b[39mexists(rtlsim_output_dir \u001b[38;5;241m+\u001b[39m \u001b[38;5;124m\"\u001b[39m\u001b[38;5;124m/final_hw_config.json\u001b[39m\u001b[38;5;124m\"\u001b[39m)\n",
      "\u001b[0;31mAssertionError\u001b[0m: "
     ]
    }
   ],
   "source": [
    "assert os.path.exists(rtlsim_output_dir + \"/report/ooc_synth_and_timing.json\")\n",
    "assert os.path.exists(rtlsim_output_dir + \"/report/rtlsim_performance.json\")\n",
    "assert os.path.exists(rtlsim_output_dir + \"/final_hw_config.json\")"
   ]
  },
  {
   "cell_type": "code",
   "execution_count": 32,
   "id": "2bb9396e-0253-4b96-b80a-c9a54a6104f9",
   "metadata": {},
   "outputs": [
    {
     "name": "stdout",
     "output_type": "stream",
     "text": [
      "all_verilog_srcs.txt\t\t       finn_vivado_stitch_proj.xpr\n",
      "data\t\t\t\t       ip\n",
      "finn_vivado_stitch_proj.cache\t       make_project.sh\n",
      "finn_vivado_stitch_proj.gen\t       make_project.tcl\n",
      "finn_vivado_stitch_proj.hw\t       vivado.jou\n",
      "finn_vivado_stitch_proj.ip_user_files  vivado.log\n",
      "finn_vivado_stitch_proj.srcs\n"
     ]
    }
   ],
   "source": [
    "! ls {rtlsim_output_dir}/stitched_ip"
   ]
  },
  {
   "cell_type": "code",
   "execution_count": 33,
   "id": "ab45333d-9903-481e-bf2b-73655534223b",
   "metadata": {},
   "outputs": [
    {
     "name": "stdout",
     "output_type": "stream",
     "text": [
      "estimate_layer_config_alternatives.json  estimate_network_performance.json\n",
      "estimate_layer_cycles.json\t\t op_and_param_counts.json\n",
      "estimate_layer_resources_hls.json\t rtlsim_performance.json\n",
      "estimate_layer_resources.json\n"
     ]
    }
   ],
   "source": [
    "! ls {rtlsim_output_dir}/report"
   ]
  },
  {
   "cell_type": "code",
   "execution_count": 34,
   "id": "c67ca0af-75b1-4ec8-9846-fe01cc8df889",
   "metadata": {},
   "outputs": [
    {
     "name": "stdout",
     "output_type": "stream",
     "text": [
      "cat: output_ipstitch_ooc_rtlsim/report/ooc_synth_and_timing.json: No such file or directory\n"
     ]
    }
   ],
   "source": [
    "! cat {rtlsim_output_dir}/report/ooc_synth_and_timing.json"
   ]
  },
  {
   "cell_type": "code",
   "execution_count": 35,
   "id": "8bfcf9cc-f881-4b3a-88d5-f2d41d09271b",
   "metadata": {},
   "outputs": [
    {
     "name": "stdout",
     "output_type": "stream",
     "text": [
      "{\n",
      "  \"N_IN_TXNS\": 8000,\n",
      "  \"N_OUT_TXNS\": 1,\n",
      "  \"cycles\": 125536,\n",
      "  \"N\": 1,\n",
      "  \"latency_cycles\": 125536,\n",
      "  \"runtime[ms]\": 1.25536,\n",
      "  \"throughput[images/s]\": 796.5842467499363,\n",
      "  \"fclk[mhz]\": 100.0,\n",
      "  \"stable_throughput[images/s]\": 796.5842467499363\n",
      "}"
     ]
    }
   ],
   "source": [
    "! cat {rtlsim_output_dir}/report/rtlsim_performance.json"
   ]
  },
  {
   "cell_type": "code",
   "execution_count": 36,
   "id": "7e335d81-c1bb-45cf-bac9-a5ffa4e8807f",
   "metadata": {},
   "outputs": [
    {
     "name": "stdout",
     "output_type": "stream",
     "text": [
      "{\n",
      "  \"Defaults\": {},\n",
      "  \"StreamingFIFO_rtl_0\": {\n",
      "    \"ram_style\": \"auto\",\n",
      "    \"depth\": 2,\n",
      "    \"impl_style\": \"rtl\",\n",
      "    \"inFIFODepths\": [\n",
      "      0\n",
      "    ],\n",
      "    \"outFIFODepths\": [\n",
      "      0\n",
      "    ]\n",
      "  },\n",
      "  \"Thresholding_rtl_0\": {\n",
      "    \"PE\": 1,\n",
      "    \"runtime_writeable_weights\": 0,\n",
      "    \"inFIFODepths\": [\n",
      "      2\n",
      "    ],\n",
      "    \"outFIFODepths\": [\n",
      "      3415\n",
      "    ],\n",
      "    \"depth_trigger_uram\": 0,\n",
      "    \"depth_trigger_bram\": 0\n",
      "  },\n",
      "  \"StreamingFIFO_rtl_1\": {\n",
      "    \"ram_style\": \"auto\",\n",
      "    \"depth\": 3415,\n",
      "    \"impl_style\": \"vivado\",\n",
      "    \"inFIFODepths\": [\n",
      "      0\n",
      "    ],\n",
      "    \"outFIFODepths\": [\n",
      "      0\n",
      "    ]\n",
      "  },\n",
      "  \"StreamingDataWidthConverter_rtl_0\": {\n",
      "    \"inFIFODepths\": [\n",
      "      3415\n",
      "    ],\n",
      "    \"outFIFODepths\": [\n",
      "      2000\n",
      "    ]\n",
      "  },\n",
      "  \"StreamingFIFO_rtl_2\": {\n",
      "    \"ram_style\": \"auto\",\n",
      "    \"depth\": 2000,\n",
      "    \"impl_style\": \"vivado\",\n",
      "    \"inFIFODepths\": [\n",
      "      0\n",
      "    ],\n",
      "    \"outFIFODepths\": [\n",
      "      0\n",
      "    ]\n",
      "  },\n",
      "  \"ConvolutionInputGenerator_rtl_0\": {\n",
      "    \"SIMD\": 4,\n",
      "    \"parallel_window\": 0,\n",
      "    \"ram_style\": \"distributed\",\n",
      "    \"inFIFODepths\": [\n",
      "      2000\n",
      "    ],\n",
      "    \"outFIFODepths\": [\n",
      "      31787\n",
      "    ]\n",
      "  },\n",
      "  \"StreamingFIFO_rtl_3\": {\n",
      "    \"ram_style\": \"auto\",\n",
      "    \"depth\": 31787,\n",
      "    \"impl_style\": \"vivado\",\n",
      "    \"inFIFODepths\": [\n",
      "      0\n",
      "    ],\n",
      "    \"outFIFODepths\": [\n",
      "      0\n",
      "    ]\n",
      "  },\n",
      "  \"StreamingDataWidthConverter_rtl_1\": {\n",
      "    \"inFIFODepths\": [\n",
      "      31787\n",
      "    ],\n",
      "    \"outFIFODepths\": [\n",
      "      32\n",
      "    ]\n",
      "  },\n",
      "  \"StreamingFIFO_rtl_4\": {\n",
      "    \"ram_style\": \"auto\",\n",
      "    \"depth\": 32,\n",
      "    \"impl_style\": \"rtl\",\n",
      "    \"inFIFODepths\": [\n",
      "      0\n",
      "    ],\n",
      "    \"outFIFODepths\": [\n",
      "      0\n",
      "    ]\n",
      "  },\n",
      "  \"MVAU_hls_0\": {\n",
      "    \"PE\": 6,\n",
      "    \"SIMD\": 2,\n",
      "    \"ram_style\": \"auto\",\n",
      "    \"resType\": \"auto\",\n",
      "    \"mem_mode\": \"internal_decoupled\",\n",
      "    \"runtime_writeable_weights\": 0,\n",
      "    \"inFIFODepths\": [\n",
      "      32\n",
      "    ],\n",
      "    \"outFIFODepths\": [\n",
      "      2\n",
      "    ]\n",
      "  },\n",
      "  \"StreamingFIFO_rtl_5\": {\n",
      "    \"ram_style\": \"auto\",\n",
      "    \"depth\": 2,\n",
      "    \"impl_style\": \"rtl\",\n",
      "    \"inFIFODepths\": [\n",
      "      0\n",
      "    ],\n",
      "    \"outFIFODepths\": [\n",
      "      0\n",
      "    ]\n",
      "  },\n",
      "  \"StreamingMaxPool_hls_0\": {\n",
      "    \"PE\": 1,\n",
      "    \"inFIFODepths\": [\n",
      "      2\n",
      "    ],\n",
      "    \"outFIFODepths\": [\n",
      "      32\n",
      "    ]\n",
      "  },\n",
      "  \"StreamingFIFO_rtl_6\": {\n",
      "    \"ram_style\": \"auto\",\n",
      "    \"depth\": 32,\n",
      "    \"impl_style\": \"rtl\",\n",
      "    \"inFIFODepths\": [\n",
      "      0\n",
      "    ],\n",
      "    \"outFIFODepths\": [\n",
      "      0\n",
      "    ]\n",
      "  },\n",
      "  \"StreamingDataWidthConverter_rtl_2\": {\n",
      "    \"inFIFODepths\": [\n",
      "      32\n",
      "    ],\n",
      "    \"outFIFODepths\": [\n",
      "      32\n",
      "    ]\n",
      "  },\n",
      "  \"StreamingFIFO_rtl_7\": {\n",
      "    \"ram_style\": \"auto\",\n",
      "    \"depth\": 32,\n",
      "    \"impl_style\": \"rtl\",\n",
      "    \"inFIFODepths\": [\n",
      "      0\n",
      "    ],\n",
      "    \"outFIFODepths\": [\n",
      "      0\n",
      "    ]\n",
      "  },\n",
      "  \"ConvolutionInputGenerator_rtl_1\": {\n",
      "    \"SIMD\": 1,\n",
      "    \"parallel_window\": 0,\n",
      "    \"ram_style\": \"distributed\",\n",
      "    \"inFIFODepths\": [\n",
      "      32\n",
      "    ],\n",
      "    \"outFIFODepths\": [\n",
      "      868\n",
      "    ]\n",
      "  },\n",
      "  \"StreamingFIFO_rtl_8\": {\n",
      "    \"ram_style\": \"auto\",\n",
      "    \"depth\": 868,\n",
      "    \"impl_style\": \"vivado\",\n",
      "    \"inFIFODepths\": [\n",
      "      0\n",
      "    ],\n",
      "    \"outFIFODepths\": [\n",
      "      0\n",
      "    ]\n",
      "  },\n",
      "  \"MVAU_hls_1\": {\n",
      "    \"PE\": 1,\n",
      "    \"SIMD\": 1,\n",
      "    \"ram_style\": \"auto\",\n",
      "    \"resType\": \"auto\",\n",
      "    \"mem_mode\": \"internal_decoupled\",\n",
      "    \"runtime_writeable_weights\": 0,\n",
      "    \"inFIFODepths\": [\n",
      "      868\n",
      "    ],\n",
      "    \"outFIFODepths\": [\n",
      "      32\n",
      "    ]\n",
      "  },\n",
      "  \"StreamingFIFO_rtl_9\": {\n",
      "    \"ram_style\": \"auto\",\n",
      "    \"depth\": 32,\n",
      "    \"impl_style\": \"rtl\",\n",
      "    \"inFIFODepths\": [\n",
      "      0\n",
      "    ],\n",
      "    \"outFIFODepths\": [\n",
      "      0\n",
      "    ]\n",
      "  },\n",
      "  \"MVAU_hls_2\": {\n",
      "    \"PE\": 1,\n",
      "    \"SIMD\": 1,\n",
      "    \"ram_style\": \"auto\",\n",
      "    \"resType\": \"auto\",\n",
      "    \"mem_mode\": \"internal_decoupled\",\n",
      "    \"runtime_writeable_weights\": 0,\n",
      "    \"inFIFODepths\": [\n",
      "      32\n",
      "    ],\n",
      "    \"outFIFODepths\": [\n",
      "      2\n",
      "    ]\n",
      "  },\n",
      "  \"StreamingFIFO_rtl_10\": {\n",
      "    \"ram_style\": \"auto\",\n",
      "    \"depth\": 2,\n",
      "    \"impl_style\": \"rtl\",\n",
      "    \"inFIFODepths\": [\n",
      "      0\n",
      "    ],\n",
      "    \"outFIFODepths\": [\n",
      "      0\n",
      "    ]\n",
      "  },\n",
      "  \"MVAU_hls_3\": {\n",
      "    \"PE\": 1,\n",
      "    \"SIMD\": 1,\n",
      "    \"ram_style\": \"auto\",\n",
      "    \"resType\": \"auto\",\n",
      "    \"mem_mode\": \"internal_decoupled\",\n",
      "    \"runtime_writeable_weights\": 0,\n",
      "    \"inFIFODepths\": [\n",
      "      2\n",
      "    ],\n",
      "    \"outFIFODepths\": [\n",
      "      2\n",
      "    ]\n",
      "  },\n",
      "  \"StreamingFIFO_rtl_11\": {\n",
      "    \"ram_style\": \"auto\",\n",
      "    \"depth\": 2,\n",
      "    \"impl_style\": \"rtl\",\n",
      "    \"inFIFODepths\": [\n",
      "      0\n",
      "    ],\n",
      "    \"outFIFODepths\": [\n",
      "      0\n",
      "    ]\n",
      "  },\n",
      "  \"MVAU_rtl_0\": {\n",
      "    \"PE\": 1,\n",
      "    \"SIMD\": 1,\n",
      "    \"ram_style\": \"auto\",\n",
      "    \"resType\": \"auto\",\n",
      "    \"mem_mode\": \"internal_decoupled\",\n",
      "    \"runtime_writeable_weights\": 0,\n",
      "    \"inFIFODepths\": [\n",
      "      2\n",
      "    ],\n",
      "    \"outFIFODepths\": [\n",
      "      2\n",
      "    ]\n",
      "  },\n",
      "  \"StreamingFIFO_rtl_12\": {\n",
      "    \"ram_style\": \"auto\",\n",
      "    \"depth\": 2,\n",
      "    \"impl_style\": \"rtl\",\n",
      "    \"inFIFODepths\": [\n",
      "      0\n",
      "    ],\n",
      "    \"outFIFODepths\": [\n",
      "      0\n",
      "    ]\n",
      "  },\n",
      "  \"LabelSelect_hls_0\": {\n",
      "    \"PE\": 1,\n",
      "    \"inFIFODepths\": [\n",
      "      2\n",
      "    ],\n",
      "    \"outFIFODepths\": [\n",
      "      2\n",
      "    ]\n",
      "  },\n",
      "  \"StreamingFIFO_rtl_13\": {\n",
      "    \"ram_style\": \"auto\",\n",
      "    \"depth\": 2,\n",
      "    \"impl_style\": \"rtl\",\n",
      "    \"inFIFODepths\": [\n",
      "      0\n",
      "    ],\n",
      "    \"outFIFODepths\": [\n",
      "      0\n",
      "    ]\n",
      "  }\n",
      "}"
     ]
    }
   ],
   "source": [
    "! cat {rtlsim_output_dir}/final_hw_config.json"
   ]
  },
  {
   "cell_type": "code",
   "execution_count": null,
   "id": "eb6064a0-8bd7-472b-9c32-8f07358e7b91",
   "metadata": {},
   "outputs": [],
   "source": []
  },
  {
   "cell_type": "code",
   "execution_count": null,
   "id": "6a1bd5d2-bd9a-4b4a-a58f-d7183a987057",
   "metadata": {},
   "outputs": [],
   "source": []
  }
 ],
 "metadata": {
  "kernelspec": {
   "display_name": "Python 3 (ipykernel)",
   "language": "python",
   "name": "python3"
  },
  "language_info": {
   "codemirror_mode": {
    "name": "ipython",
    "version": 3
   },
   "file_extension": ".py",
   "mimetype": "text/x-python",
   "name": "python",
   "nbconvert_exporter": "python",
   "pygments_lexer": "ipython3",
   "version": "3.10.12"
  }
 },
 "nbformat": 4,
 "nbformat_minor": 5
}
