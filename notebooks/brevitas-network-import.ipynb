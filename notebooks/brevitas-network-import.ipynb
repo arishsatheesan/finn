{
 "cells": [
  {
   "cell_type": "markdown",
   "metadata": {},
   "source": [
    "# Importing Brevitas networks into FINN\n",
    "\n",
    "In this notebook we'll go through an example of how to import a Brevitas-trained QNN into FINN. The steps will be as follows:\n",
    "\n",
    "1. Load up the trained PyTorch model\n",
    "2. Call Brevitas FINN-ONNX export and visualize with Netron\n",
    "3. Import into FINN and call cleanup transformations\n",
    "\n",
    "We'll use the following showSrc function to print the source code for function calls in the Jupyter notebook:"
   ]
  },
  {
   "cell_type": "code",
   "execution_count": 2,
   "metadata": {},
   "outputs": [],
   "source": [
    "import inspect\n",
    "\n",
    "def showSrc(what):\n",
    "    print(\"\".join(inspect.getsourcelines(what)[0]))"
   ]
  },
  {
   "cell_type": "markdown",
   "metadata": {},
   "source": [
    "## 1. Load up the trained PyTorch model\n",
    "\n",
    "The FINN Docker image comes with several [example Brevitas networks](https://github.com/maltanar/brevitas_cnv_lfc), and we'll use the LFC-w1a1 model as the example network here. This is a binarized fully connected network trained on the MNIST dataset. Let's start by looking at what the PyTorch network definition looks like:"
   ]
  },
  {
   "cell_type": "code",
   "execution_count": 3,
   "metadata": {},
   "outputs": [
    {
     "name": "stdout",
     "output_type": "stream",
     "text": [
      "class LFC(Module):\n",
      "\n",
      "    def __init__(self, num_classes=10, weight_bit_width=None, act_bit_width=None,\n",
      "                 in_bit_width=None, in_ch=1, in_features=(28, 28)):\n",
      "        super(LFC, self).__init__()\n",
      "\n",
      "        weight_quant_type = get_quant_type(weight_bit_width)\n",
      "        act_quant_type = get_quant_type(act_bit_width)\n",
      "        in_quant_type = get_quant_type(in_bit_width)\n",
      "        stats_op = get_stats_op(weight_quant_type)\n",
      "\n",
      "        self.features = ModuleList()\n",
      "        self.features.append(get_act_quant(in_bit_width, in_quant_type))\n",
      "        self.features.append(Dropout(p=IN_DROPOUT))\n",
      "        in_features = reduce(mul, in_features)\n",
      "        for out_features in FC_OUT_FEATURES:\n",
      "            self.features.append(get_quant_linear(in_features=in_features,\n",
      "                                                  out_features=out_features,\n",
      "                                                  per_out_ch_scaling=INTERMEDIATE_FC_PER_OUT_CH_SCALING,\n",
      "                                                  bit_width=weight_bit_width,\n",
      "                                                  quant_type=weight_quant_type,\n",
      "                                                  stats_op=stats_op))\n",
      "            in_features = out_features\n",
      "            self.features.append(BatchNorm1d(num_features=in_features))\n",
      "            self.features.append(get_act_quant(act_bit_width, act_quant_type))\n",
      "            self.features.append(Dropout(p=HIDDEN_DROPOUT))\n",
      "        self.fc = get_quant_linear(in_features=in_features,\n",
      "                                   out_features=num_classes,\n",
      "                                   per_out_ch_scaling=LAST_FC_PER_OUT_CH_SCALING,\n",
      "                                   bit_width=weight_bit_width,\n",
      "                                   quant_type=weight_quant_type,\n",
      "                                   stats_op=stats_op)\n",
      "\n",
      "    def forward(self, x):\n",
      "        x = x.view(x.shape[0], -1)\n",
      "        x = 2.0 * x - torch.tensor([1.0])\n",
      "        for mod in self.features:\n",
      "            x = mod(x)\n",
      "        out = self.fc(x)\n",
      "        return out\n",
      "\n"
     ]
    }
   ],
   "source": [
    "from models.LFC import LFC\n",
    "showSrc(LFC)"
   ]
  },
  {
   "cell_type": "markdown",
   "metadata": {},
   "source": [
    "We can see that the network topology is constructed using a few helper functions that generate the quantized linear layers and quantized activations. The bitwidth of the layers is actually parametrized in the constructor, so let's instantiate a 1-bit weights and activations version of this network. We also have pretrained weights for this network, which we will load into the model."
   ]
  },
  {
   "cell_type": "code",
   "execution_count": 4,
   "metadata": {},
   "outputs": [
    {
     "data": {
      "text/plain": [
       "LFC(\n",
       "  (features): ModuleList(\n",
       "    (0): QuantHardTanh(\n",
       "      (act_quant_proxy): ActivationQuantProxy(\n",
       "        (fused_activation_quant_proxy): FusedActivationQuantProxy(\n",
       "          (activation_impl): Identity()\n",
       "          (tensor_quant): ClampedBinaryQuant(\n",
       "            (scaling_impl): StandaloneScaling(\n",
       "              (restrict_value): RestrictValue(\n",
       "                (forward_impl): Sequential(\n",
       "                  (0): PowerOfTwo()\n",
       "                  (1): ClampMin()\n",
       "                )\n",
       "              )\n",
       "            )\n",
       "          )\n",
       "        )\n",
       "      )\n",
       "    )\n",
       "    (1): Dropout(p=0.2)\n",
       "    (2): QuantLinear(\n",
       "      in_features=784, out_features=1024, bias=False\n",
       "      (weight_reg): WeightReg()\n",
       "      (weight_quant): WeightQuantProxy(\n",
       "        (tensor_quant): BinaryQuant(\n",
       "          (scaling_impl): ParameterStatsScaling(\n",
       "            (parameter_list_stats): ParameterListStats(\n",
       "              (first_tracked_param): _ViewParameterWrapper()\n",
       "              (stats): Stats(\n",
       "                (stats_impl): AbsAve()\n",
       "              )\n",
       "            )\n",
       "            (stats_scaling_impl): StatsScaling(\n",
       "              (affine_rescaling): Identity()\n",
       "              (restrict_scaling): RestrictValue(\n",
       "                (forward_impl): Sequential(\n",
       "                  (0): PowerOfTwo()\n",
       "                  (1): ClampMin()\n",
       "                )\n",
       "              )\n",
       "              (restrict_scaling_preprocess): LogTwo()\n",
       "            )\n",
       "          )\n",
       "        )\n",
       "      )\n",
       "      (bias_quant): BiasQuantProxy()\n",
       "    )\n",
       "    (3): BatchNorm1d(1024, eps=1e-05, momentum=0.1, affine=True, track_running_stats=True)\n",
       "    (4): QuantHardTanh(\n",
       "      (act_quant_proxy): ActivationQuantProxy(\n",
       "        (fused_activation_quant_proxy): FusedActivationQuantProxy(\n",
       "          (activation_impl): Identity()\n",
       "          (tensor_quant): ClampedBinaryQuant(\n",
       "            (scaling_impl): StandaloneScaling(\n",
       "              (restrict_value): RestrictValue(\n",
       "                (forward_impl): Sequential(\n",
       "                  (0): PowerOfTwo()\n",
       "                  (1): ClampMin()\n",
       "                )\n",
       "              )\n",
       "            )\n",
       "          )\n",
       "        )\n",
       "      )\n",
       "    )\n",
       "    (5): Dropout(p=0.2)\n",
       "    (6): QuantLinear(\n",
       "      in_features=1024, out_features=1024, bias=False\n",
       "      (weight_reg): WeightReg()\n",
       "      (weight_quant): WeightQuantProxy(\n",
       "        (tensor_quant): BinaryQuant(\n",
       "          (scaling_impl): ParameterStatsScaling(\n",
       "            (parameter_list_stats): ParameterListStats(\n",
       "              (first_tracked_param): _ViewParameterWrapper()\n",
       "              (stats): Stats(\n",
       "                (stats_impl): AbsAve()\n",
       "              )\n",
       "            )\n",
       "            (stats_scaling_impl): StatsScaling(\n",
       "              (affine_rescaling): Identity()\n",
       "              (restrict_scaling): RestrictValue(\n",
       "                (forward_impl): Sequential(\n",
       "                  (0): PowerOfTwo()\n",
       "                  (1): ClampMin()\n",
       "                )\n",
       "              )\n",
       "              (restrict_scaling_preprocess): LogTwo()\n",
       "            )\n",
       "          )\n",
       "        )\n",
       "      )\n",
       "      (bias_quant): BiasQuantProxy()\n",
       "    )\n",
       "    (7): BatchNorm1d(1024, eps=1e-05, momentum=0.1, affine=True, track_running_stats=True)\n",
       "    (8): QuantHardTanh(\n",
       "      (act_quant_proxy): ActivationQuantProxy(\n",
       "        (fused_activation_quant_proxy): FusedActivationQuantProxy(\n",
       "          (activation_impl): Identity()\n",
       "          (tensor_quant): ClampedBinaryQuant(\n",
       "            (scaling_impl): StandaloneScaling(\n",
       "              (restrict_value): RestrictValue(\n",
       "                (forward_impl): Sequential(\n",
       "                  (0): PowerOfTwo()\n",
       "                  (1): ClampMin()\n",
       "                )\n",
       "              )\n",
       "            )\n",
       "          )\n",
       "        )\n",
       "      )\n",
       "    )\n",
       "    (9): Dropout(p=0.2)\n",
       "    (10): QuantLinear(\n",
       "      in_features=1024, out_features=1024, bias=False\n",
       "      (weight_reg): WeightReg()\n",
       "      (weight_quant): WeightQuantProxy(\n",
       "        (tensor_quant): BinaryQuant(\n",
       "          (scaling_impl): ParameterStatsScaling(\n",
       "            (parameter_list_stats): ParameterListStats(\n",
       "              (first_tracked_param): _ViewParameterWrapper()\n",
       "              (stats): Stats(\n",
       "                (stats_impl): AbsAve()\n",
       "              )\n",
       "            )\n",
       "            (stats_scaling_impl): StatsScaling(\n",
       "              (affine_rescaling): Identity()\n",
       "              (restrict_scaling): RestrictValue(\n",
       "                (forward_impl): Sequential(\n",
       "                  (0): PowerOfTwo()\n",
       "                  (1): ClampMin()\n",
       "                )\n",
       "              )\n",
       "              (restrict_scaling_preprocess): LogTwo()\n",
       "            )\n",
       "          )\n",
       "        )\n",
       "      )\n",
       "      (bias_quant): BiasQuantProxy()\n",
       "    )\n",
       "    (11): BatchNorm1d(1024, eps=1e-05, momentum=0.1, affine=True, track_running_stats=True)\n",
       "    (12): QuantHardTanh(\n",
       "      (act_quant_proxy): ActivationQuantProxy(\n",
       "        (fused_activation_quant_proxy): FusedActivationQuantProxy(\n",
       "          (activation_impl): Identity()\n",
       "          (tensor_quant): ClampedBinaryQuant(\n",
       "            (scaling_impl): StandaloneScaling(\n",
       "              (restrict_value): RestrictValue(\n",
       "                (forward_impl): Sequential(\n",
       "                  (0): PowerOfTwo()\n",
       "                  (1): ClampMin()\n",
       "                )\n",
       "              )\n",
       "            )\n",
       "          )\n",
       "        )\n",
       "      )\n",
       "    )\n",
       "    (13): Dropout(p=0.2)\n",
       "  )\n",
       "  (fc): QuantLinear(\n",
       "    in_features=1024, out_features=10, bias=False\n",
       "    (weight_reg): WeightReg()\n",
       "    (weight_quant): WeightQuantProxy(\n",
       "      (tensor_quant): BinaryQuant(\n",
       "        (scaling_impl): ParameterStatsScaling(\n",
       "          (parameter_list_stats): ParameterListStats(\n",
       "            (first_tracked_param): _ViewParameterWrapper()\n",
       "            (stats): Stats(\n",
       "              (stats_impl): AbsAve()\n",
       "            )\n",
       "          )\n",
       "          (stats_scaling_impl): StatsScaling(\n",
       "            (affine_rescaling): Identity()\n",
       "            (restrict_scaling): RestrictValue(\n",
       "              (forward_impl): Sequential(\n",
       "                (0): PowerOfTwo()\n",
       "                (1): ClampMin()\n",
       "              )\n",
       "            )\n",
       "            (restrict_scaling_preprocess): LogTwo()\n",
       "          )\n",
       "        )\n",
       "      )\n",
       "    )\n",
       "    (bias_quant): BiasQuantProxy()\n",
       "  )\n",
       ")"
      ]
     },
     "execution_count": 4,
     "metadata": {},
     "output_type": "execute_result"
    }
   ],
   "source": [
    "import torch\n",
    "\n",
    "trained_lfc_w1a1_checkpoint = \"/workspace/brevitas_cnv_lfc/pretrained_models/LFC_1W1A/checkpoints/best.tar\"\n",
    "lfc = LFC(weight_bit_width=1, act_bit_width=1, in_bit_width=1).eval()\n",
    "checkpoint = torch.load(trained_lfc_w1a1_checkpoint, map_location=\"cpu\")\n",
    "lfc.load_state_dict(checkpoint[\"state_dict\"])\n",
    "lfc"
   ]
  },
  {
   "cell_type": "markdown",
   "metadata": {},
   "source": [
    "We have now instantiated our trained PyTorch network. Let's try to run an example MNIST image through the network using PyTorch."
   ]
  },
  {
   "cell_type": "code",
   "execution_count": 6,
   "metadata": {},
   "outputs": [
    {
     "data": {
      "image/png": "[encoded data removed]",
      "text/plain": [
       "<Figure size 432x288 with 1 Axes>"
      ]
     },
     "metadata": {
      "needs_background": "light"
     },
     "output_type": "display_data"
    }
   ],
   "source": [
    "import matplotlib.pyplot as plt\n",
    "from pkgutil import get_data\n",
    "import onnx\n",
    "import onnx.numpy_helper as nph\n",
    "raw_i = get_data(\"finn\", \"data/onnx/mnist-conv/test_data_set_0/input_0.pb\")\n",
    "input_tensor = onnx.load_tensor_from_string(raw_i)\n",
    "input_tensor_npy = nph.to_array(input_tensor)\n",
    "input_tensor_pyt = torch.from_numpy(input_tensor_npy).float()\n",
    "imgplot = plt.imshow(input_tensor_npy.reshape(28,28))"
   ]
  },
  {
   "cell_type": "code",
   "execution_count": 7,
   "metadata": {},
   "outputs": [
    {
     "data": {
      "text/plain": [
       "tensor([2.4663e-03, 6.8211e-06, 8.9177e-01, 2.1330e-05, 3.6883e-04, 3.0418e-06,\n",
       "        1.1795e-04, 5.0158e-05, 1.0517e-01, 2.4597e-05])"
      ]
     },
     "execution_count": 7,
     "metadata": {},
     "output_type": "execute_result"
    }
   ],
   "source": [
    "from torch.nn.functional import softmax\n",
    "# do forward pass in PyTorch/Brevitas\n",
    "produced = lfc.forward(input_tensor_pyt).detach()\n",
    "probabilities = softmax(produced, dim=-1).flatten()\n",
    "probabilities"
   ]
  },
  {
   "cell_type": "code",
   "execution_count": 8,
   "metadata": {},
   "outputs": [
    {
     "data": {
      "image/png": "[encoded data removed]",
      "text/plain": [
       "<Figure size 432x288 with 1 Axes>"
      ]
     },
     "metadata": {
      "needs_background": "light"
     },
     "output_type": "display_data"
    }
   ],
   "source": [
    "import numpy as np\n",
    "objects = [str(x) for x in range(10)]\n",
    "y_pos = np.arange(len(objects))\n",
    "plt.bar(y_pos, probabilities, align='center', alpha=0.5)\n",
    "plt.xticks(y_pos, objects)\n",
    "plt.ylabel('Predicted Probability')\n",
    "plt.title('LFC-w1a1 Predictions for Image')\n",
    "plt.show()"
   ]
  },
  {
   "cell_type": "markdown",
   "metadata": {},
   "source": [
    "## 2. Call Brevitas FINN-ONNX export and visualize with Netron\n",
    "\n",
    "Brevitas comes with built-in FINN-ONNX export functionality. This is similar to the regular ONNX export capabilities of PyTorch, with a few differences:\n",
    "\n",
    "1. The weight quantization logic is not exported as part of the graph; rather, the quantized weights themselves are exported.\n",
    "2. Special quantization annotations are used to preserve the low-bit quantization information. ONNX (at the time of writing) supports 8-bit quantization as the minimum bitwidth, whereas FINN-ONNX quantization annotations can go down to binary/bipolar quantization.\n",
    "3. Low-bit quantized activation functions are exported as MultiThreshold operators.\n",
    "\n",
    "It's actually quite straightforward to export ONNX from our Brevitas model as follows:"
   ]
  },
  {
   "cell_type": "code",
   "execution_count": 9,
   "metadata": {},
   "outputs": [
    {
     "name": "stderr",
     "output_type": "stream",
     "text": [
      "/workspace/brevitas_cnv_lfc/training_scripts/models/LFC.py:73: TracerWarning: torch.tensor results are registered as constants in the trace. You can safely ignore this warning if you use this function to create tensors out of constant variables that would be the same every time you call this function. In any other case, this might cause the trace to be incorrect.\n",
      "  x = 2.0 * x - torch.tensor([1.0])\n"
     ]
    }
   ],
   "source": [
    "import brevitas.onnx as bo\n",
    "export_onnx_path = \"/tmp/LFCW1A1.onnx\"\n",
    "input_shape = (1, 1, 28, 28)\n",
    "bo.export_finn_onnx(lfc, input_shape, export_onnx_path)"
   ]
  },
  {
   "cell_type": "markdown",
   "metadata": {},
   "source": [
    "Let's examine what the exported ONNX model looks like. For this, we will use the Netron visualizer:"
   ]
  },
  {
   "cell_type": "code",
   "execution_count": 10,
   "metadata": {},
   "outputs": [
    {
     "name": "stdout",
     "output_type": "stream",
     "text": [
      "Serving '/tmp/LFCW1A1.onnx' at http://0.0.0.0:8081\n"
     ]
    }
   ],
   "source": [
    "import netron\n",
    "netron.start(export_onnx_path, port=8081, host=\"0.0.0.0\")"
   ]
  },
  {
   "cell_type": "code",
   "execution_count": 11,
   "metadata": {},
   "outputs": [
    {
     "data": {
      "text/html": [
       "<iframe src=\"http://0.0.0.0:8081/\" style=\"position: relative; width: 100%;\" height=\"400\"></iframe>\n"
      ],
      "text/plain": [
       "<IPython.core.display.HTML object>"
      ]
     },
     "metadata": {},
     "output_type": "display_data"
    }
   ],
   "source": [
    "%%html\n",
    "<iframe src=\"http://0.0.0.0:8081/\" style=\"position: relative; width: 100%;\" height=\"400\"></iframe>"
   ]
  },
  {
   "cell_type": "markdown",
   "metadata": {},
   "source": [
    "When running this notebook in the FINN Docker container, you should be able to see an interactive visualization of the imported network above, and click on individual nodes to inspect their parameters. If you look at any of the MatMul nodes, you should be able to see that the weights are all {-1, +1} values, and the activations are Sign functions."
   ]
  },
  {
   "cell_type": "markdown",
   "metadata": {},
   "source": [
    "## 3. Import into FINN and call cleanup transformations\n",
    "\n",
    "We will now import this ONNX model into FINN using the ModelWrapper, and examine some of the graph attributes from Python."
   ]
  },
  {
   "cell_type": "code",
   "execution_count": 12,
   "metadata": {},
   "outputs": [
    {
     "data": {
      "text/plain": [
       "input: \"32\"\n",
       "input: \"33\"\n",
       "output: \"35\"\n",
       "op_type: \"MatMul\""
      ]
     },
     "execution_count": 12,
     "metadata": {},
     "output_type": "execute_result"
    }
   ],
   "source": [
    "from finn.core.modelwrapper import ModelWrapper\n",
    "model = ModelWrapper(export_onnx_path)\n",
    "model.graph.node[9]"
   ]
  },
  {
   "cell_type": "markdown",
   "metadata": {},
   "source": [
    "The ModelWrapper exposes a range of other useful functions as well. For instance, by convention the second input of the MatMul node will be a pre-initialized weight tensor, which we can view using the following:"
   ]
  },
  {
   "cell_type": "code",
   "execution_count": 13,
   "metadata": {},
   "outputs": [
    {
     "data": {
      "text/plain": [
       "array([[ 1.,  1.,  1., ...,  1.,  1., -1.],\n",
       "       [ 1.,  1., -1., ...,  1.,  1., -1.],\n",
       "       [-1.,  1., -1., ..., -1.,  1., -1.],\n",
       "       ...,\n",
       "       [-1.,  1., -1., ..., -1., -1.,  1.],\n",
       "       [ 1.,  1., -1., ...,  1.,  1., -1.],\n",
       "       [-1.,  1.,  1., ..., -1., -1.,  1.]], dtype=float32)"
      ]
     },
     "execution_count": 13,
     "metadata": {},
     "output_type": "execute_result"
    }
   ],
   "source": [
    "model.get_initializer(model.graph.node[9].input[1])"
   ]
  },
  {
   "cell_type": "markdown",
   "metadata": {},
   "source": [
    "If we want to operate further on this model in FINN, it is a good idea to execute certain \"cleanup\" transformations on this graph. Here, we will run shape inference and constant folding on this graph, and visualize the resulting graph in Netron again."
   ]
  },
  {
   "cell_type": "code",
   "execution_count": 14,
   "metadata": {},
   "outputs": [
    {
     "name": "stdout",
     "output_type": "stream",
     "text": [
      "\n",
      "Stopping http://0.0.0.0:8081\n",
      "Serving '/tmp/LFCW1A1-clean.onnx' at http://0.0.0.0:8081\n"
     ]
    }
   ],
   "source": [
    "from finn.transformation.fold_constants import FoldConstants\n",
    "from finn.transformation.infer_shapes import InferShapes\n",
    "model = model.transform(InferShapes())\n",
    "model = model.transform(FoldConstants())\n",
    "export_onnx_path_transformed = \"/tmp/LFCW1A1-clean.onnx\"\n",
    "model.save(export_onnx_path_transformed)\n",
    "netron.start(export_onnx_path_transformed, port=8081, host=\"0.0.0.0\")"
   ]
  },
  {
   "cell_type": "code",
   "execution_count": 15,
   "metadata": {},
   "outputs": [
    {
     "data": {
      "text/html": [
       "<iframe src=\"http://0.0.0.0:8081/\" style=\"position: relative; width: 100%;\" height=\"400\"></iframe>\n"
      ],
      "text/plain": [
       "<IPython.core.display.HTML object>"
      ]
     },
     "metadata": {},
     "output_type": "display_data"
    }
   ],
   "source": [
    "%%html\n",
    "<iframe src=\"http://0.0.0.0:8081/\" style=\"position: relative; width: 100%;\" height=\"400\"></iframe>"
   ]
  },
  {
   "cell_type": "markdown",
   "metadata": {},
   "source": [
    "We can see that the resulting graph has become smaller and simpler. Specifically, the input reshaping is now a single Reshape node instead of the Shape -> Gather -> Unsqueeze -> Concat -> Reshape sequence. We can now use the internal ONNX execution capabilities of FINN to ensure that we still get the same output from this model as we did with PyTorch."
   ]
  },
  {
   "cell_type": "code",
   "execution_count": 18,
   "metadata": {},
   "outputs": [
    {
     "data": {
      "text/plain": [
       "array([[ 3.3252678 , -2.5652065 ,  9.215742  , -1.4251148 ,  1.4251148 ,\n",
       "        -3.3727715 ,  0.28502294, -0.5700459 ,  7.07807   , -1.2826033 ]],\n",
       "      dtype=float32)"
      ]
     },
     "execution_count": 18,
     "metadata": {},
     "output_type": "execute_result"
    }
   ],
   "source": [
    "import finn.core.onnx_exec as oxe\n",
    "input_dict = {\"0\": nph.to_array(input_tensor)}\n",
    "output_dict = oxe.execute_onnx(model, input_dict)\n",
    "produced_finn = output_dict[list(output_dict.keys())[0]]\n",
    "\n",
    "produced_finn"
   ]
  },
  {
   "cell_type": "code",
   "execution_count": 19,
   "metadata": {},
   "outputs": [
    {
     "data": {
      "text/plain": [
       "True"
      ]
     },
     "execution_count": 19,
     "metadata": {},
     "output_type": "execute_result"
    }
   ],
   "source": [
    "np.isclose(produced, produced_finn).all()"
   ]
  },
  {
   "cell_type": "markdown",
   "metadata": {},
   "source": [
    "We have succesfully verified that the transformed and cleaned-up FINN graph still produces the same output, and can now use this model for further processing in FINN."
   ]
  },
  {
   "cell_type": "code",
   "execution_count": null,
   "metadata": {},
   "outputs": [],
   "source": []
  }
 ],
 "metadata": {
  "kernelspec": {
   "display_name": "Python 3",
   "language": "python",
   "name": "python3"
  },
  "language_info": {
   "codemirror_mode": {
    "name": "ipython",
    "version": 3
   },
   "file_extension": ".py",
   "mimetype": "text/x-python",
   "name": "python",
   "nbconvert_exporter": "python",
   "pygments_lexer": "ipython3",
   "version": "3.6.8"
  }
 },
 "nbformat": 4,
 "nbformat_minor": 2
}
