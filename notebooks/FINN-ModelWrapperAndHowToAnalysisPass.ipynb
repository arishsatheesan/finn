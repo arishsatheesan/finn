{
 "cells": [
  {
   "cell_type": "markdown",
   "metadata": {},
   "source": [
    "# FINN - ModelWrapper and Analysis passes\n",
    "--------------------------------------\n",
    "<font size=\"3\"> This notebook is about the ModelWrapper class and analysis passes within FINN. \n",
    "\n",
    "Following showSrc function is used to print the source code of function calls in the Jupyter notebook:</font>"
   ]
  },
  {
   "cell_type": "code",
   "execution_count": 2,
   "metadata": {},
   "outputs": [],
   "source": [
    "import inspect\n",
    "\n",
    "def showSrc(what):\n",
    "    print(\"\".join(inspect.getsourcelines(what)[0]))"
   ]
  },
  {
   "cell_type": "markdown",
   "metadata": {},
   "source": [
    "## ModelWrapper\n",
    "-------------------------\n",
    "* <font size=\"3\"> wrapper around ONNX ModelProto that exposes some utility\n",
    "    functions for graph manipulation and exploration </font>\n",
    "* <font size=\"3\"> ModelWrapper instance takes onnx model proto and `make_deepcopy` flag as input </font>\n",
    "* <font size=\"3\"> onnx model proto can either be a string with the path to a stored .onnx file on disk, or serialized bytes </font>\n",
    "* <font size=\"3\"> `make_deepcopy` is by default False but can be set to True if a (deep) copy should be created </font>"
   ]
  },
  {
   "cell_type": "markdown",
   "metadata": {},
   "source": [
    "### Create a ModelWrapper instance"
   ]
  },
  {
   "cell_type": "code",
   "execution_count": 3,
   "metadata": {},
   "outputs": [],
   "source": [
    "from finn.core.modelwrapper import ModelWrapper\n",
    "onnx_model = ModelWrapper(\"LFCW1A1.onnx\")"
   ]
  },
  {
   "cell_type": "markdown",
   "metadata": {},
   "source": [
    "### Access the attributes of the model\n",
    "<font size=\"3\"> Modelwrapper allows easy access to the various components of the model </font>"
   ]
  },
  {
   "cell_type": "code",
   "execution_count": 4,
   "metadata": {},
   "outputs": [],
   "source": [
    "# i.e. the onnx model proto\n",
    "model = onnx_model.model\n",
    "\n",
    "# the graph\n",
    "graph = onnx_model.graph\n",
    "\n",
    "# the node list\n",
    "nodes = onnx_model.graph.node"
   ]
  },
  {
   "cell_type": "markdown",
   "metadata": {},
   "source": [
    "#### Tensors\n",
    "<font size=\"3\"> Every input and output of every node in the onnx model is represented as tensor with several properties (i.e. name, shape, data type). ModelWrapper provides some utility functions to work with the tensors </font>"
   ]
  },
  {
   "cell_type": "markdown",
   "metadata": {},
   "source": [
    "##### Tensor names"
   ]
  },
  {
   "cell_type": "code",
   "execution_count": 5,
   "metadata": {},
   "outputs": [
    {
     "name": "stdout",
     "output_type": "stream",
     "text": [
      "['0', 'features.3.weight', 'features.3.bias', 'features.3.running_mean', 'features.3.running_var', 'features.7.weight', 'features.7.bias', 'features.7.running_mean', 'features.7.running_var', 'features.11.weight', 'features.11.bias', 'features.11.running_mean', 'features.11.running_var', '20', '23', '28', '30', '33', '34', '41', '42', '49', '50', '57', '58', '60']\n"
     ]
    }
   ],
   "source": [
    "# get all tensor names\n",
    "tensor_list = onnx_model.get_all_tensor_names()\n",
    "print(tensor_list)"
   ]
  },
  {
   "cell_type": "markdown",
   "metadata": {},
   "source": [
    "##### Producer and consumer of a tensor"
   ]
  },
  {
   "cell_type": "code",
   "execution_count": 6,
   "metadata": {},
   "outputs": [
    {
     "name": "stdout",
     "output_type": "stream",
     "text": [
      "input: \"59\"\n",
      "input: \"58\"\n",
      "output: \"60\"\n",
      "op_type: \"Mul\"\n",
      "\n",
      "input: \"0\"\n",
      "output: \"21\"\n",
      "op_type: \"Shape\"\n",
      "\n"
     ]
    }
   ],
   "source": [
    "# get random tensor and find producer and consumer (returns node)\n",
    "\n",
    "tensor_name = tensor_list[25]\n",
    "print(onnx_model.find_producer(tensor_name))\n",
    "\n",
    "tensor_name = tensor_list[0]\n",
    "print(onnx_model.find_consumer(tensor_name))\n"
   ]
  },
  {
   "cell_type": "markdown",
   "metadata": {},
   "source": [
    "##### Tensor shape"
   ]
  },
  {
   "cell_type": "code",
   "execution_count": 7,
   "metadata": {},
   "outputs": [
    {
     "name": "stdout",
     "output_type": "stream",
     "text": [
      "[1, 1, 28, 28]\n"
     ]
    }
   ],
   "source": [
    "# get tensor_shape\n",
    "\n",
    "print(onnx_model.get_tensor_shape(tensor_name))"
   ]
  },
  {
   "cell_type": "markdown",
   "metadata": {},
   "source": [
    "<font size=\"3\"> It is also possible to set the tensor shape with a helper function. The syntax would be the following:\n",
    "    \n",
    "`onnx_model.set_tensor_shape(tensor_name, tensor_shape)`\n",
    "\n",
    "Optionally, the dtype of the tensor can also be specified as third argument. By default it is set to TensorProto.FLOAT. \n",
    "    \n",
    "**Important:** dtype should not be confused with FINN data type, which specifies the quantization annotation.\n",
    "</font>"
   ]
  },
  {
   "cell_type": "markdown",
   "metadata": {},
   "source": [
    "##### Tensor (FINN) data type"
   ]
  },
  {
   "cell_type": "markdown",
   "metadata": {},
   "source": [
    "<font size=\"3\">FINN introduces its own data types because ONNX does not natively support precisions less than 8 bits. FINN is about quantized neural networks, so precision of i.e. 4 bits, 3 bits, 2 bits or 1 bit are of interest. To represent the data within FINN, float tensors are used with additional annotation to specify the quantized data type of a tensor. The following helper functions are about this quantization annotation. </font>"
   ]
  },
  {
   "cell_type": "code",
   "execution_count": 8,
   "metadata": {},
   "outputs": [
    {
     "name": "stdout",
     "output_type": "stream",
     "text": [
      "DataType.FLOAT32\n"
     ]
    }
   ],
   "source": [
    "# get tensor data type (FINN data type)\n",
    "print(onnx_model.get_tensor_datatype(tensor_name))"
   ]
  },
  {
   "cell_type": "markdown",
   "metadata": {},
   "source": [
    "<font size=\"3\">In addition to the get_tensor_datatatype() function, the (FINN) datatype of a tensor can be set using the `set_initializer(tensor_name, datatype)` function. </font>"
   ]
  },
  {
   "cell_type": "markdown",
   "metadata": {},
   "source": [
    "##### Tensor initializers\n",
    "<font size=\"3\">Some tensors have initializer like tensors that represent constants or i.e. the determined weights from training. \n",
    "\n",
    "ModelWrapper contains two helper functions for this case, one to determine the current initializer and one to set the initializer of a tensor.</font>"
   ]
  },
  {
   "cell_type": "code",
   "execution_count": 11,
   "metadata": {},
   "outputs": [
    {
     "name": "stdout",
     "output_type": "stream",
     "text": [
      "[0.10029524 0.0410215  0.09845579 ... 0.24390122 0.17647634 0.23984103]\n"
     ]
    }
   ],
   "source": [
    "# get tensor initializer\n",
    "tensor_name = tensor_list[1]\n",
    "print(onnx_model.get_initializer(tensor_name))"
   ]
  },
  {
   "cell_type": "markdown",
   "metadata": {},
   "source": [
    "<font size=\"3\">Like for the other tensor helper functions there is also a `set_initializer(tensor_name, tensor_value)` function.</font>"
   ]
  },
  {
   "cell_type": "markdown",
   "metadata": {},
   "source": [
    "<font size=\"3\">ModelWrapper contains more useful functions, if you are interested please have a look at the python code directly. In the following analysis passes are discussed in more detail.\n",
    "\n",
    "In the folder notebooks/ a Jupyter notebook about transformation passes can be found</font>"
   ]
  },
  {
   "cell_type": "markdown",
   "metadata": {},
   "source": [
    "## Analysis passes\n",
    "-------------------------\n",
    "* <font size=\"3\">traverses the graph structure and produces information about certain properties</font>\n",
    "* <font size=\"3\">input: ModelWrapper</font>\n",
    "* <font size=\"3\">returns dictionary of named properties that the analysis extracts</font>"
   ]
  },
  {
   "cell_type": "code",
   "execution_count": 12,
   "metadata": {},
   "outputs": [
    {
     "name": "stdout",
     "output_type": "stream",
     "text": [
      "\n",
      "Stopping http://0.0.0.0:8081\n",
      "Serving 'LFCW1A1.onnx' at http://0.0.0.0:8081\n"
     ]
    }
   ],
   "source": [
    "import netron\n",
    "netron.start('LFCW1A1.onnx', port=8081, host=\"0.0.0.0\")"
   ]
  },
  {
   "cell_type": "code",
   "execution_count": 13,
   "metadata": {},
   "outputs": [
    {
     "data": {
      "text/html": [
       "<iframe src=\"http://0.0.0.0:8081/\" style=\"position: relative; width: 100%;\" height=\"400\"></iframe>\n"
      ],
      "text/plain": [
       "<IPython.core.display.HTML object>"
      ]
     },
     "metadata": {},
     "output_type": "display_data"
    }
   ],
   "source": [
    "%%html\n",
    "<iframe src=\"http://0.0.0.0:8081/\" style=\"position: relative; width: 100%;\" height=\"400\"></iframe>"
   ]
  },
  {
   "cell_type": "markdown",
   "metadata": {},
   "source": [
    "<font size=\"3\">The onnx model has to be converted to a format that can be processed by FINN. This is done with ModelWrapper. As described in the short introduction, this is the format an analysis pass takes as input.</font>"
   ]
  },
  {
   "cell_type": "code",
   "execution_count": 14,
   "metadata": {},
   "outputs": [],
   "source": [
    "from finn.core.modelwrapper import ModelWrapper\n",
    "onnx_model = ModelWrapper('LFCW1A1.onnx')"
   ]
  },
  {
   "cell_type": "markdown",
   "metadata": {},
   "source": [
    "<font size=\"3\">The idea is to count all nodes that have the same operation type. The result should contain the operation types and the corresponding number of nodes that occur in the model. At the beginning an empty dictionary is created which is filled by the function and returned as result to the user at the end of the analysis.</font>"
   ]
  },
  {
   "cell_type": "code",
   "execution_count": 9,
   "metadata": {},
   "outputs": [],
   "source": [
    "def count_equal_nodes(model):\n",
    "    count_dict = {}\n",
    "    for node in model.graph.node:\n",
    "        if node.op_type in count_dict:\n",
    "            count_dict[node.op_type] +=1\n",
    "        else:\n",
    "            count_dict[node.op_type] = 1\n",
    "    return count_dict"
   ]
  },
  {
   "cell_type": "markdown",
   "metadata": {},
   "source": [
    "<font size=\"3\">The function takes the model as input and iterates over the nodes. Then it is checked whether there is already an entry for the operation type in the dictionary. If this is not the case, an entry is created and set to `1`. If there is already an entry, it is incremented. If all nodes in the model have been iterated, the filled dictionary is returned.</font>"
   ]
  },
  {
   "cell_type": "code",
   "execution_count": 10,
   "metadata": {},
   "outputs": [
    {
     "name": "stdout",
     "output_type": "stream",
     "text": [
      "{'Shape': 1, 'Gather': 1, 'Unsqueeze': 5, 'Concat': 1, 'Reshape': 1, 'Mul': 5, 'Sub': 1, 'Sign': 4, 'MatMul': 4, 'BatchNormalization': 3, 'Squeeze': 3}\n"
     ]
    }
   ],
   "source": [
    "print(count_equal_nodes(onnx_model))"
   ]
  },
  {
   "cell_type": "code",
   "execution_count": null,
   "metadata": {},
   "outputs": [],
   "source": []
  }
 ],
 "metadata": {
  "kernelspec": {
   "display_name": "Python 3",
   "language": "python",
   "name": "python3"
  },
  "language_info": {
   "codemirror_mode": {
    "name": "ipython",
    "version": 3
   },
   "file_extension": ".py",
   "mimetype": "text/x-python",
   "name": "python",
   "nbconvert_exporter": "python",
   "pygments_lexer": "ipython3",
   "version": "3.6.8"
  }
 },
 "nbformat": 4,
 "nbformat_minor": 2
}
